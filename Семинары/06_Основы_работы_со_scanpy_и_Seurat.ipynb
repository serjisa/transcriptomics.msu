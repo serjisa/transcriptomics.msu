{
  "cells": [
    {
      "cell_type": "markdown",
      "metadata": {
        "id": "view-in-github",
        "colab_type": "text"
      },
      "source": [
        "<a href=\"https://colab.research.google.com/github/serjisa/transcriptomics.msu/blob/main/%D0%A1%D0%B5%D0%BC%D0%B8%D0%BD%D0%B0%D1%80%D1%8B/06_%D0%9E%D1%81%D0%BD%D0%BE%D0%B2%D1%8B_%D1%80%D0%B0%D0%B1%D0%BE%D1%82%D1%8B_%D1%81%D0%BE_scanpy_%D0%B8_Seurat.ipynb\" target=\"_parent\"><img src=\"https://colab.research.google.com/assets/colab-badge.svg\" alt=\"Open In Colab\"/></a>"
      ]
    },
    {
      "cell_type": "markdown",
      "metadata": {
        "id": "oL23uYAgGpwu"
      },
      "source": [
        "# Семинар 6. Основы работы с библиотеками scanpy и Seurat\n",
        "\n",
        "Это практикум с анализом данных scRNA-Seq. Он основан на пакете scanpy для Python 3 и Seurat для R версии 4 и больше."
      ]
    },
    {
      "cell_type": "code",
      "execution_count": null,
      "metadata": {
        "id": "A35F75zRGLg4"
      },
      "outputs": [],
      "source": [
        "# Загрузка R magic\n",
        "%load_ext rpy2.ipython\n",
        "\n",
        "# Установка нужных пакетов\n",
        "!apt-get install libgmp3-dev libcairo2-dev libharfbuzz-dev libfribidi-dev libudunits2-dev\n",
        "!gdown 1W0TuuQospxcasOX5cQdhT_Xd-k7-QAck\n",
        "!tar xf library.tar.gz\n",
        "!pip3 install scanpy[leiden] anndata2ri\n",
        "\n",
        "# Необходимо, чтобы конкретно прогрузился matplotlib\n",
        "import os\n",
        "os.kill(os.getpid(), 9)"
      ]
    },
    {
      "cell_type": "code",
      "source": [
        "import anndata2ri\n",
        "anndata2ri.activate()\n",
        "%load_ext rpy2.ipython\n",
        "%R .libPaths(\"usr/local/lib/R/site-library/\")"
      ],
      "metadata": {
        "id": "qB7sEMg-j5bN",
        "colab": {
          "base_uri": "https://localhost:8080/",
          "height": 57
        },
        "outputId": "62ec5981-2b54-4255-8c39-28e2c81e5239"
      },
      "execution_count": null,
      "outputs": [
        {
          "output_type": "execute_result",
          "data": {
            "text/plain": [
              "<rpy2.robjects.vectors.StrVector object at 0x7f290824a780> [RTYPES.STRSXP]\n",
              "R classes: ('character',)\n",
              "['/content/..., '/usr/loca..., '/usr/lib/..., '/usr/lib/...]"
            ],
            "text/html": [
              "\n",
              "        <span>StrVector with 4 elements.</span>\n",
              "        <table>\n",
              "        <tbody>\n",
              "          <tr>\n",
              "          \n",
              "            <td>\n",
              "            '/content/...\n",
              "            </td>\n",
              "          \n",
              "            <td>\n",
              "            '/usr/loca...\n",
              "            </td>\n",
              "          \n",
              "            <td>\n",
              "            '/usr/lib/...\n",
              "            </td>\n",
              "          \n",
              "            <td>\n",
              "            '/usr/lib/...\n",
              "            </td>\n",
              "          \n",
              "          </tr>\n",
              "        </tbody>\n",
              "        </table>\n",
              "        "
            ]
          },
          "metadata": {},
          "execution_count": 1
        }
      ]
    },
    {
      "cell_type": "markdown",
      "source": [
        "Давайте для начала скачаем и распакуем архив с аутпутом программы Cell Ranger (без файла выравнивания, для уменьшения объёма). Он лежит в Google Colab со следующим ID: `1qmMBM0gt3EO9Gk30Weo11Sriy3wuZmUM` — и может быть загружен при помощи gdown:"
      ],
      "metadata": {
        "id": "4PTK01407GA3"
      }
    },
    {
      "cell_type": "code",
      "execution_count": null,
      "metadata": {
        "id": "rXXRTE3TITtd",
        "colab": {
          "base_uri": "https://localhost:8080/"
        },
        "outputId": "6461187f-10d2-4eaf-8388-1d2a3d205a53"
      },
      "outputs": [
        {
          "output_type": "stream",
          "name": "stdout",
          "text": [
            "Downloading...\n",
            "From: https://drive.google.com/uc?id=1Ctq4EmV2ps1dMiFcbqW467ywezRSGGN0\n",
            "To: /content/PBMC_10k.zip\n",
            "100% 345M/345M [00:01<00:00, 232MB/s]\n",
            "Archive:  PBMC_10k.zip\n",
            "  inflating: filtered_feature_bc_matrix.h5  \n",
            "  inflating: filtered_feature_bc_matrix.tar.gz  \n",
            "  inflating: metrics_summary.csv     \n",
            "  inflating: raw_feature_bc_matrix.h5  \n",
            "  inflating: raw_feature_bc_matrix.tar.gz  \n",
            "  inflating: web_summary.html        \n"
          ]
        }
      ],
      "source": [
        "!gdown 1Ctq4EmV2ps1dMiFcbqW467ywezRSGGN0\n",
        "!unzip PBMC_10k.zip"
      ]
    },
    {
      "cell_type": "markdown",
      "metadata": {
        "id": "wwzXjAqnLqMb"
      },
      "source": [
        "Мы видим четыре файла: архив с нефильтрованной матрицей экспрессий, архив с отфильтрованными клетками, а также .html-отчёт о качестве выравнивания и его текстовая версия. Разархивируем отфильтрованные матрицы экспрессий."
      ]
    },
    {
      "cell_type": "code",
      "execution_count": null,
      "metadata": {
        "colab": {
          "base_uri": "https://localhost:8080/"
        },
        "id": "EsenuQB8KvtG",
        "outputId": "b4e40c5b-9cfd-4986-b613-a996ebc93faa"
      },
      "outputs": [
        {
          "output_type": "stream",
          "name": "stdout",
          "text": [
            "filtered_feature_bc_matrix/\n",
            "filtered_feature_bc_matrix/matrix.mtx.gz\n",
            "filtered_feature_bc_matrix/features.tsv.gz\n",
            "filtered_feature_bc_matrix/barcodes.tsv.gz\n"
          ]
        }
      ],
      "source": [
        "!tar -xvzf filtered_feature_bc_matrix.tar.gz"
      ]
    },
    {
      "cell_type": "markdown",
      "source": [
        "## Scanpy и AnnData"
      ],
      "metadata": {
        "id": "LPH5QQ9Y8ASP"
      }
    },
    {
      "cell_type": "markdown",
      "source": [
        "Давайте прочитаем содержимое отфильтрованной матрицы и создадим объект формата AnnData (и назовём его adata). Попробуем вывести его функцией `print()`."
      ],
      "metadata": {
        "id": "UIY6qOfE7Wil"
      }
    },
    {
      "cell_type": "code",
      "source": [
        "import scanpy as sc\n",
        "\n",
        "adata = sc.read_10x_mtx(\"filtered_feature_bc_matrix\") # Эта функция позволяет быстро прочитать аутпут программы Cell Ranger\n",
        "print(adata) # Выведем содержимое"
      ],
      "metadata": {
        "colab": {
          "base_uri": "https://localhost:8080/"
        },
        "id": "rzmhYntl7UaL",
        "outputId": "39b49aef-a963-4d23-bf8a-cefa8f2fba0d"
      },
      "execution_count": null,
      "outputs": [
        {
          "output_type": "stream",
          "name": "stdout",
          "text": [
            "AnnData object with n_obs × n_vars = 11996 × 36601\n",
            "    var: 'gene_ids', 'feature_types'\n"
          ]
        }
      ]
    },
    {
      "cell_type": "markdown",
      "source": [
        "Сердце объекта AnnData — это матрица, в которой находятся данные по числу UMI каждого гена на каждую клетку. В нашем случае эта матрица имеет размерность число клеток × число генов, то есть 8381 × 33694. Для того, чтобы напрямую обратиться к этой матрице, необходимо вызвать объект `adata.X`.\n",
        "\n",
        "Эта матрица пока находится в sparse-виде. Это такой формат, который подразумевает, что нулей в матрице сильно больше, чем ненулевых элементов — тогда в явном виде можно хранить только координаты ненулевых элементов, это сильно экономит память. Ниже будет приведена иллюстрация того, как выглядит sparse-матрица."
      ],
      "metadata": {
        "id": "47Azok5j7gMX"
      }
    },
    {
      "cell_type": "code",
      "source": [
        "from scipy.sparse import csr_matrix\n",
        "import numpy as np\n",
        "\n",
        "x = np.matrix(\n",
        "    [[1, 0, 0, 0, 0],\n",
        "     [0, 1, 0, 0, 0],\n",
        "     [0, 0, 1, 0, 0],\n",
        "     [0, 0, 0, 1, 0],\n",
        "     [0, 0, 0, 0, 1]]\n",
        ") # Создадим матрицу, с которой мы будем работать\n",
        "print(x) # Выведем её содержимое"
      ],
      "metadata": {
        "colab": {
          "base_uri": "https://localhost:8080/"
        },
        "id": "Ur4kYE8s7YY1",
        "outputId": "75a71d42-838a-4985-b9c4-17f9ed78ea26"
      },
      "execution_count": null,
      "outputs": [
        {
          "output_type": "stream",
          "name": "stdout",
          "text": [
            "[[1 0 0 0 0]\n",
            " [0 1 0 0 0]\n",
            " [0 0 1 0 0]\n",
            " [0 0 0 1 0]\n",
            " [0 0 0 0 1]]\n"
          ]
        }
      ]
    },
    {
      "cell_type": "code",
      "source": [
        "x_csr = csr_matrix(x) # Создадим из матрицы x sparse-матрицу\n",
        "print(x_csr) # Выведем её содержимое"
      ],
      "metadata": {
        "colab": {
          "base_uri": "https://localhost:8080/"
        },
        "id": "Mgx6S3Ta7jpG",
        "outputId": "95cc588e-ee8a-4519-d66e-880dc1f54c30"
      },
      "execution_count": null,
      "outputs": [
        {
          "output_type": "stream",
          "name": "stdout",
          "text": [
            "  (0, 0)\t1\n",
            "  (1, 1)\t1\n",
            "  (2, 2)\t1\n",
            "  (3, 3)\t1\n",
            "  (4, 4)\t1\n"
          ]
        }
      ]
    },
    {
      "cell_type": "code",
      "source": [
        "x_csr.A"
      ],
      "metadata": {
        "colab": {
          "base_uri": "https://localhost:8080/"
        },
        "id": "DSDz9v2O_h7K",
        "outputId": "f3e98ddc-f471-499c-9178-64049c3577f1"
      },
      "execution_count": null,
      "outputs": [
        {
          "output_type": "execute_result",
          "data": {
            "text/plain": [
              "array([[1, 0, 0, 0, 0],\n",
              "       [0, 1, 0, 0, 0],\n",
              "       [0, 0, 1, 0, 0],\n",
              "       [0, 0, 0, 1, 0],\n",
              "       [0, 0, 0, 0, 1]])"
            ]
          },
          "metadata": {},
          "execution_count": 12
        }
      ]
    },
    {
      "cell_type": "markdown",
      "source": [
        "Посмотрим на содержимое нашего scRNA-Seq датасета:"
      ],
      "metadata": {
        "id": "pyNjxQu87qY7"
      }
    },
    {
      "cell_type": "code",
      "source": [
        "print(adata.X.A)"
      ],
      "metadata": {
        "colab": {
          "base_uri": "https://localhost:8080/"
        },
        "id": "vkh51zM_7m-N",
        "outputId": "d5a0685a-787d-473a-f7b3-2eba2e9ed507"
      },
      "execution_count": null,
      "outputs": [
        {
          "output_type": "stream",
          "name": "stdout",
          "text": [
            "[[0. 0. 0. ... 0. 0. 0.]\n",
            " [0. 0. 0. ... 0. 0. 0.]\n",
            " [0. 0. 0. ... 0. 0. 0.]\n",
            " ...\n",
            " [0. 0. 0. ... 0. 0. 0.]\n",
            " [0. 0. 0. ... 0. 0. 0.]\n",
            " [0. 0. 0. ... 0. 0. 0.]]\n"
          ]
        }
      ]
    },
    {
      "cell_type": "markdown",
      "source": [
        "Теперь можем посмотреть, что хранится в датафрейме с аннотацией клеток."
      ],
      "metadata": {
        "id": "NaaDizm57uVN"
      }
    },
    {
      "cell_type": "code",
      "source": [
        "adata.obs # Шапка датафрейма с аннотацией клеток"
      ],
      "metadata": {
        "colab": {
          "base_uri": "https://localhost:8080/",
          "height": 406
        },
        "id": "kAV5JGoM7rvf",
        "outputId": "11906f10-2da7-46d6-d4b4-00c7e5c6eaf1"
      },
      "execution_count": null,
      "outputs": [
        {
          "output_type": "execute_result",
          "data": {
            "text/plain": [
              "Empty DataFrame\n",
              "Columns: []\n",
              "Index: [AAACCCAAGGCCCAAA-1, AAACCCAAGTAATACG-1, AAACCCAAGTCACACT-1, AAACCCACAAAGCGTG-1, AAACCCACAATCGAAA-1, AAACCCACAGATCACT-1, AAACCCACATTGACCA-1, AAACCCAGTGAGCCAA-1, AAACCCAGTGATAGAT-1, AAACCCAGTGCCTGAC-1, AAACCCAGTGGTCTTA-1, AAACCCATCAGCCTCT-1, AAACGAAAGATGAATC-1, AAACGAACAGAATTCC-1, AAACGAACAGGATGAC-1, AAACGAAGTTACGCCG-1, AAACGAATCAACGAGG-1, AAACGAATCCGATAGT-1, AAACGAATCTCGACCT-1, AAACGCTAGCCTGACC-1, AAACGCTAGGACAAGA-1, AAACGCTAGGCCTTGC-1, AAACGCTCATACATCG-1, AAACGCTCATACGCAT-1, AAACGCTCATGAATCC-1, AAACGCTCATTCTGTT-1, AAACGCTGTCCATCTC-1, AAACGCTGTGAGCGAT-1, AAACGCTTCGACCACG-1, AAAGAACAGCATAGGC-1, AAAGAACAGCCTGAAG-1, AAAGAACAGGCCCGTT-1, AAAGAACCAAAGGGTC-1, AAAGAACCAGATCCTA-1, AAAGAACCAGGTTCGC-1, AAAGAACCATGGAGAC-1, AAAGAACGTCAAAGAT-1, AAAGAACTCGTGTCAA-1, AAAGGATAGAACAGGA-1, AAAGGATAGTGAGGCT-1, AAAGGATCAATGACCT-1, AAAGGATCACTACCGG-1, AAAGGATCACTAGTAC-1, AAAGGATGTCCTGGGT-1, AAAGGATGTGAGTAAT-1, AAAGGATGTGGGCTCT-1, AAAGGATGTTCCATTT-1, AAAGGATTCACGATCA-1, AAAGGATTCATTCATC-1, AAAGGATTCGGCGATC-1, AAAGGGCAGGCGACAT-1, AAAGGGCAGGGTAGCT-1, AAAGGGCCAGTAACGG-1, AAAGGGCGTACGAGTG-1, AAAGGGCGTCGAATGG-1, AAAGGGCTCACCCTCA-1, AAAGGGCTCACTGTTT-1, AAAGGGCTCCCGGTAG-1, AAAGGGCTCGCCAATA-1, AAAGGGCTCTTTGCTA-1, AAAGGTAAGCAAGTCG-1, AAAGGTAAGGGATGTC-1, AAAGGTAAGTAAACAC-1, AAAGGTAAGTTGCCCG-1, AAAGGTACAATACAGA-1, AAAGGTACACGCGTCA-1, AAAGGTACACTTACAG-1, AAAGGTACAGGAACCA-1, AAAGGTACATGGACAG-1, AAAGGTAGTCGCATGC-1, AAAGGTATCCGTGTCT-1, AAAGGTATCTCGTCAC-1, AAAGTCCAGCCATGCC-1, AAAGTCCAGCTACAAA-1, AAAGTCCCACCCATAA-1, AAAGTCCCACTACCCT-1, AAAGTCCCAGAGGCTA-1, AAAGTCCGTACGACAG-1, AAAGTCCTCGGATTAC-1, AAAGTGAAGACAGTCG-1, AAAGTGAAGAGCTGCA-1, AAAGTGAAGAGTGTGC-1, AAAGTGAAGATACGAT-1, AAAGTGAAGCCTCTTC-1, AAAGTGAAGCTTAGTC-1, AAAGTGAAGGTGCTTT-1, AAAGTGACAACGTATC-1, AAAGTGACAATAGGAT-1, AAAGTGACAATCGCAT-1, AAAGTGACATCGTGCG-1, AAAGTGACATTGCTTT-1, AAAGTGAGTTACCCTC-1, AAAGTGATCCAAGGGA-1, AAATGGAAGATCCGAG-1, AAATGGAAGATGAAGG-1, AAATGGACAACAAAGT-1, AAATGGACAATGTCTG-1, AAATGGACACGACCTG-1, AAATGGACAGATTTCG-1, AAATGGAGTACTGCGC-1, ...]\n",
              "\n",
              "[11996 rows x 0 columns]"
            ],
            "text/html": [
              "\n",
              "  <div id=\"df-72a716be-3a99-4341-b57a-f4f619926d9e\">\n",
              "    <div class=\"colab-df-container\">\n",
              "      <div>\n",
              "<style scoped>\n",
              "    .dataframe tbody tr th:only-of-type {\n",
              "        vertical-align: middle;\n",
              "    }\n",
              "\n",
              "    .dataframe tbody tr th {\n",
              "        vertical-align: top;\n",
              "    }\n",
              "\n",
              "    .dataframe thead th {\n",
              "        text-align: right;\n",
              "    }\n",
              "</style>\n",
              "<table border=\"1\" class=\"dataframe\">\n",
              "  <thead>\n",
              "    <tr style=\"text-align: right;\">\n",
              "      <th></th>\n",
              "    </tr>\n",
              "  </thead>\n",
              "  <tbody>\n",
              "    <tr>\n",
              "      <th>AAACCCAAGGCCCAAA-1</th>\n",
              "    </tr>\n",
              "    <tr>\n",
              "      <th>AAACCCAAGTAATACG-1</th>\n",
              "    </tr>\n",
              "    <tr>\n",
              "      <th>AAACCCAAGTCACACT-1</th>\n",
              "    </tr>\n",
              "    <tr>\n",
              "      <th>AAACCCACAAAGCGTG-1</th>\n",
              "    </tr>\n",
              "    <tr>\n",
              "      <th>AAACCCACAATCGAAA-1</th>\n",
              "    </tr>\n",
              "    <tr>\n",
              "      <th>...</th>\n",
              "    </tr>\n",
              "    <tr>\n",
              "      <th>TTTGTTGGTTGGATCT-1</th>\n",
              "    </tr>\n",
              "    <tr>\n",
              "      <th>TTTGTTGGTTTCTTAC-1</th>\n",
              "    </tr>\n",
              "    <tr>\n",
              "      <th>TTTGTTGTCCATTTCA-1</th>\n",
              "    </tr>\n",
              "    <tr>\n",
              "      <th>TTTGTTGTCTACACAG-1</th>\n",
              "    </tr>\n",
              "    <tr>\n",
              "      <th>TTTGTTGTCTCATTAC-1</th>\n",
              "    </tr>\n",
              "  </tbody>\n",
              "</table>\n",
              "<p>11996 rows × 0 columns</p>\n",
              "</div>\n",
              "      <button class=\"colab-df-convert\" onclick=\"convertToInteractive('df-72a716be-3a99-4341-b57a-f4f619926d9e')\"\n",
              "              title=\"Convert this dataframe to an interactive table.\"\n",
              "              style=\"display:none;\">\n",
              "        \n",
              "  <svg xmlns=\"http://www.w3.org/2000/svg\" height=\"24px\"viewBox=\"0 0 24 24\"\n",
              "       width=\"24px\">\n",
              "    <path d=\"M0 0h24v24H0V0z\" fill=\"none\"/>\n",
              "    <path d=\"M18.56 5.44l.94 2.06.94-2.06 2.06-.94-2.06-.94-.94-2.06-.94 2.06-2.06.94zm-11 1L8.5 8.5l.94-2.06 2.06-.94-2.06-.94L8.5 2.5l-.94 2.06-2.06.94zm10 10l.94 2.06.94-2.06 2.06-.94-2.06-.94-.94-2.06-.94 2.06-2.06.94z\"/><path d=\"M17.41 7.96l-1.37-1.37c-.4-.4-.92-.59-1.43-.59-.52 0-1.04.2-1.43.59L10.3 9.45l-7.72 7.72c-.78.78-.78 2.05 0 2.83L4 21.41c.39.39.9.59 1.41.59.51 0 1.02-.2 1.41-.59l7.78-7.78 2.81-2.81c.8-.78.8-2.07 0-2.86zM5.41 20L4 18.59l7.72-7.72 1.47 1.35L5.41 20z\"/>\n",
              "  </svg>\n",
              "      </button>\n",
              "      \n",
              "  <style>\n",
              "    .colab-df-container {\n",
              "      display:flex;\n",
              "      flex-wrap:wrap;\n",
              "      gap: 12px;\n",
              "    }\n",
              "\n",
              "    .colab-df-convert {\n",
              "      background-color: #E8F0FE;\n",
              "      border: none;\n",
              "      border-radius: 50%;\n",
              "      cursor: pointer;\n",
              "      display: none;\n",
              "      fill: #1967D2;\n",
              "      height: 32px;\n",
              "      padding: 0 0 0 0;\n",
              "      width: 32px;\n",
              "    }\n",
              "\n",
              "    .colab-df-convert:hover {\n",
              "      background-color: #E2EBFA;\n",
              "      box-shadow: 0px 1px 2px rgba(60, 64, 67, 0.3), 0px 1px 3px 1px rgba(60, 64, 67, 0.15);\n",
              "      fill: #174EA6;\n",
              "    }\n",
              "\n",
              "    [theme=dark] .colab-df-convert {\n",
              "      background-color: #3B4455;\n",
              "      fill: #D2E3FC;\n",
              "    }\n",
              "\n",
              "    [theme=dark] .colab-df-convert:hover {\n",
              "      background-color: #434B5C;\n",
              "      box-shadow: 0px 1px 3px 1px rgba(0, 0, 0, 0.15);\n",
              "      filter: drop-shadow(0px 1px 2px rgba(0, 0, 0, 0.3));\n",
              "      fill: #FFFFFF;\n",
              "    }\n",
              "  </style>\n",
              "\n",
              "      <script>\n",
              "        const buttonEl =\n",
              "          document.querySelector('#df-72a716be-3a99-4341-b57a-f4f619926d9e button.colab-df-convert');\n",
              "        buttonEl.style.display =\n",
              "          google.colab.kernel.accessAllowed ? 'block' : 'none';\n",
              "\n",
              "        async function convertToInteractive(key) {\n",
              "          const element = document.querySelector('#df-72a716be-3a99-4341-b57a-f4f619926d9e');\n",
              "          const dataTable =\n",
              "            await google.colab.kernel.invokeFunction('convertToInteractive',\n",
              "                                                     [key], {});\n",
              "          if (!dataTable) return;\n",
              "\n",
              "          const docLinkHtml = 'Like what you see? Visit the ' +\n",
              "            '<a target=\"_blank\" href=https://colab.research.google.com/notebooks/data_table.ipynb>data table notebook</a>'\n",
              "            + ' to learn more about interactive tables.';\n",
              "          element.innerHTML = '';\n",
              "          dataTable['output_type'] = 'display_data';\n",
              "          await google.colab.output.renderOutput(dataTable, element);\n",
              "          const docLink = document.createElement('div');\n",
              "          docLink.innerHTML = docLinkHtml;\n",
              "          element.appendChild(docLink);\n",
              "        }\n",
              "      </script>\n",
              "    </div>\n",
              "  </div>\n",
              "  "
            ]
          },
          "metadata": {},
          "execution_count": 16
        }
      ]
    },
    {
      "cell_type": "markdown",
      "source": [
        "Мы видим, что в аннотации по клеткам нет никаких дополнительных полей, кроме индекса с баркодами клеток. Какие это могут быть дополнительные поля? Например, сколько различных генов экспрессируется в клетке, из какого пациента были получены клетки, к какому типу клеток они относятся. Дальше этот датафрейм будет только расширяться, и к концу мы увидим, насколько много будет у него полей. Давайте попробуем добавить колонку tissue, которой присвоим значение PBMC."
      ],
      "metadata": {
        "id": "H36T5S2l7yrp"
      }
    },
    {
      "cell_type": "code",
      "source": [
        "adata.obs[\"tissue\"] = \"PBMC\" # Делаем новый лист, который будет состоять из слова PBMC\n",
        "adata.obs.head()"
      ],
      "metadata": {
        "colab": {
          "base_uri": "https://localhost:8080/",
          "height": 206
        },
        "id": "wpIXuSaD7wBB",
        "outputId": "813f3fcb-0075-4652-c87d-5287d918f8f6"
      },
      "execution_count": null,
      "outputs": [
        {
          "output_type": "execute_result",
          "data": {
            "text/plain": [
              "                      tissue\n",
              "AAACCCAAGGCCCAAA:don1   PBMC\n",
              "AAACCCAAGTAATACG:don1   PBMC\n",
              "AAACCCAAGTCACACT:don1   PBMC\n",
              "AAACCCACAAAGCGTG:don1   PBMC\n",
              "AAACCCACAATCGAAA:don1   PBMC"
            ],
            "text/html": [
              "\n",
              "  <div id=\"df-b1464396-c3e7-4b19-b000-1248b9d1e5dc\">\n",
              "    <div class=\"colab-df-container\">\n",
              "      <div>\n",
              "<style scoped>\n",
              "    .dataframe tbody tr th:only-of-type {\n",
              "        vertical-align: middle;\n",
              "    }\n",
              "\n",
              "    .dataframe tbody tr th {\n",
              "        vertical-align: top;\n",
              "    }\n",
              "\n",
              "    .dataframe thead th {\n",
              "        text-align: right;\n",
              "    }\n",
              "</style>\n",
              "<table border=\"1\" class=\"dataframe\">\n",
              "  <thead>\n",
              "    <tr style=\"text-align: right;\">\n",
              "      <th></th>\n",
              "      <th>tissue</th>\n",
              "    </tr>\n",
              "  </thead>\n",
              "  <tbody>\n",
              "    <tr>\n",
              "      <th>AAACCCAAGGCCCAAA:don1</th>\n",
              "      <td>PBMC</td>\n",
              "    </tr>\n",
              "    <tr>\n",
              "      <th>AAACCCAAGTAATACG:don1</th>\n",
              "      <td>PBMC</td>\n",
              "    </tr>\n",
              "    <tr>\n",
              "      <th>AAACCCAAGTCACACT:don1</th>\n",
              "      <td>PBMC</td>\n",
              "    </tr>\n",
              "    <tr>\n",
              "      <th>AAACCCACAAAGCGTG:don1</th>\n",
              "      <td>PBMC</td>\n",
              "    </tr>\n",
              "    <tr>\n",
              "      <th>AAACCCACAATCGAAA:don1</th>\n",
              "      <td>PBMC</td>\n",
              "    </tr>\n",
              "  </tbody>\n",
              "</table>\n",
              "</div>\n",
              "      <button class=\"colab-df-convert\" onclick=\"convertToInteractive('df-b1464396-c3e7-4b19-b000-1248b9d1e5dc')\"\n",
              "              title=\"Convert this dataframe to an interactive table.\"\n",
              "              style=\"display:none;\">\n",
              "        \n",
              "  <svg xmlns=\"http://www.w3.org/2000/svg\" height=\"24px\"viewBox=\"0 0 24 24\"\n",
              "       width=\"24px\">\n",
              "    <path d=\"M0 0h24v24H0V0z\" fill=\"none\"/>\n",
              "    <path d=\"M18.56 5.44l.94 2.06.94-2.06 2.06-.94-2.06-.94-.94-2.06-.94 2.06-2.06.94zm-11 1L8.5 8.5l.94-2.06 2.06-.94-2.06-.94L8.5 2.5l-.94 2.06-2.06.94zm10 10l.94 2.06.94-2.06 2.06-.94-2.06-.94-.94-2.06-.94 2.06-2.06.94z\"/><path d=\"M17.41 7.96l-1.37-1.37c-.4-.4-.92-.59-1.43-.59-.52 0-1.04.2-1.43.59L10.3 9.45l-7.72 7.72c-.78.78-.78 2.05 0 2.83L4 21.41c.39.39.9.59 1.41.59.51 0 1.02-.2 1.41-.59l7.78-7.78 2.81-2.81c.8-.78.8-2.07 0-2.86zM5.41 20L4 18.59l7.72-7.72 1.47 1.35L5.41 20z\"/>\n",
              "  </svg>\n",
              "      </button>\n",
              "      \n",
              "  <style>\n",
              "    .colab-df-container {\n",
              "      display:flex;\n",
              "      flex-wrap:wrap;\n",
              "      gap: 12px;\n",
              "    }\n",
              "\n",
              "    .colab-df-convert {\n",
              "      background-color: #E8F0FE;\n",
              "      border: none;\n",
              "      border-radius: 50%;\n",
              "      cursor: pointer;\n",
              "      display: none;\n",
              "      fill: #1967D2;\n",
              "      height: 32px;\n",
              "      padding: 0 0 0 0;\n",
              "      width: 32px;\n",
              "    }\n",
              "\n",
              "    .colab-df-convert:hover {\n",
              "      background-color: #E2EBFA;\n",
              "      box-shadow: 0px 1px 2px rgba(60, 64, 67, 0.3), 0px 1px 3px 1px rgba(60, 64, 67, 0.15);\n",
              "      fill: #174EA6;\n",
              "    }\n",
              "\n",
              "    [theme=dark] .colab-df-convert {\n",
              "      background-color: #3B4455;\n",
              "      fill: #D2E3FC;\n",
              "    }\n",
              "\n",
              "    [theme=dark] .colab-df-convert:hover {\n",
              "      background-color: #434B5C;\n",
              "      box-shadow: 0px 1px 3px 1px rgba(0, 0, 0, 0.15);\n",
              "      filter: drop-shadow(0px 1px 2px rgba(0, 0, 0, 0.3));\n",
              "      fill: #FFFFFF;\n",
              "    }\n",
              "  </style>\n",
              "\n",
              "      <script>\n",
              "        const buttonEl =\n",
              "          document.querySelector('#df-b1464396-c3e7-4b19-b000-1248b9d1e5dc button.colab-df-convert');\n",
              "        buttonEl.style.display =\n",
              "          google.colab.kernel.accessAllowed ? 'block' : 'none';\n",
              "\n",
              "        async function convertToInteractive(key) {\n",
              "          const element = document.querySelector('#df-b1464396-c3e7-4b19-b000-1248b9d1e5dc');\n",
              "          const dataTable =\n",
              "            await google.colab.kernel.invokeFunction('convertToInteractive',\n",
              "                                                     [key], {});\n",
              "          if (!dataTable) return;\n",
              "\n",
              "          const docLinkHtml = 'Like what you see? Visit the ' +\n",
              "            '<a target=\"_blank\" href=https://colab.research.google.com/notebooks/data_table.ipynb>data table notebook</a>'\n",
              "            + ' to learn more about interactive tables.';\n",
              "          element.innerHTML = '';\n",
              "          dataTable['output_type'] = 'display_data';\n",
              "          await google.colab.output.renderOutput(dataTable, element);\n",
              "          const docLink = document.createElement('div');\n",
              "          docLink.innerHTML = docLinkHtml;\n",
              "          element.appendChild(docLink);\n",
              "        }\n",
              "      </script>\n",
              "    </div>\n",
              "  </div>\n",
              "  "
            ]
          },
          "metadata": {},
          "execution_count": 19
        }
      ]
    },
    {
      "cell_type": "code",
      "source": [
        "sample_name = \"don1\"\n",
        "adata.obs.index = [barcode.split(\"-\")[0] + f\":{sample_name}\" for barcode in adata.obs.index]"
      ],
      "metadata": {
        "id": "GPqwC23iACH3"
      },
      "execution_count": null,
      "outputs": []
    },
    {
      "cell_type": "markdown",
      "source": [
        "Теперь посмотрим на датафрейм с аннотацией по генам."
      ],
      "metadata": {
        "id": "tDOoUSHr75Ox"
      }
    },
    {
      "cell_type": "code",
      "source": [
        "adata.var.head() # Шапка датафрейма с аннотацией генов"
      ],
      "metadata": {
        "colab": {
          "base_uri": "https://localhost:8080/",
          "height": 206
        },
        "id": "wpZxuyKW70nR",
        "outputId": "d6ea0199-5a4c-4cdf-f883-d759a23e9ae5"
      },
      "execution_count": null,
      "outputs": [
        {
          "output_type": "execute_result",
          "data": {
            "text/plain": [
              "                    gene_ids    feature_types\n",
              "MIR1302-2HG  ENSG00000243485  Gene Expression\n",
              "FAM138A      ENSG00000237613  Gene Expression\n",
              "OR4F5        ENSG00000186092  Gene Expression\n",
              "AL627309.1   ENSG00000238009  Gene Expression\n",
              "AL627309.3   ENSG00000239945  Gene Expression"
            ],
            "text/html": [
              "\n",
              "  <div id=\"df-a51dab73-b4ff-43dc-b6a9-bd3d024713a1\">\n",
              "    <div class=\"colab-df-container\">\n",
              "      <div>\n",
              "<style scoped>\n",
              "    .dataframe tbody tr th:only-of-type {\n",
              "        vertical-align: middle;\n",
              "    }\n",
              "\n",
              "    .dataframe tbody tr th {\n",
              "        vertical-align: top;\n",
              "    }\n",
              "\n",
              "    .dataframe thead th {\n",
              "        text-align: right;\n",
              "    }\n",
              "</style>\n",
              "<table border=\"1\" class=\"dataframe\">\n",
              "  <thead>\n",
              "    <tr style=\"text-align: right;\">\n",
              "      <th></th>\n",
              "      <th>gene_ids</th>\n",
              "      <th>feature_types</th>\n",
              "    </tr>\n",
              "  </thead>\n",
              "  <tbody>\n",
              "    <tr>\n",
              "      <th>MIR1302-2HG</th>\n",
              "      <td>ENSG00000243485</td>\n",
              "      <td>Gene Expression</td>\n",
              "    </tr>\n",
              "    <tr>\n",
              "      <th>FAM138A</th>\n",
              "      <td>ENSG00000237613</td>\n",
              "      <td>Gene Expression</td>\n",
              "    </tr>\n",
              "    <tr>\n",
              "      <th>OR4F5</th>\n",
              "      <td>ENSG00000186092</td>\n",
              "      <td>Gene Expression</td>\n",
              "    </tr>\n",
              "    <tr>\n",
              "      <th>AL627309.1</th>\n",
              "      <td>ENSG00000238009</td>\n",
              "      <td>Gene Expression</td>\n",
              "    </tr>\n",
              "    <tr>\n",
              "      <th>AL627309.3</th>\n",
              "      <td>ENSG00000239945</td>\n",
              "      <td>Gene Expression</td>\n",
              "    </tr>\n",
              "  </tbody>\n",
              "</table>\n",
              "</div>\n",
              "      <button class=\"colab-df-convert\" onclick=\"convertToInteractive('df-a51dab73-b4ff-43dc-b6a9-bd3d024713a1')\"\n",
              "              title=\"Convert this dataframe to an interactive table.\"\n",
              "              style=\"display:none;\">\n",
              "        \n",
              "  <svg xmlns=\"http://www.w3.org/2000/svg\" height=\"24px\"viewBox=\"0 0 24 24\"\n",
              "       width=\"24px\">\n",
              "    <path d=\"M0 0h24v24H0V0z\" fill=\"none\"/>\n",
              "    <path d=\"M18.56 5.44l.94 2.06.94-2.06 2.06-.94-2.06-.94-.94-2.06-.94 2.06-2.06.94zm-11 1L8.5 8.5l.94-2.06 2.06-.94-2.06-.94L8.5 2.5l-.94 2.06-2.06.94zm10 10l.94 2.06.94-2.06 2.06-.94-2.06-.94-.94-2.06-.94 2.06-2.06.94z\"/><path d=\"M17.41 7.96l-1.37-1.37c-.4-.4-.92-.59-1.43-.59-.52 0-1.04.2-1.43.59L10.3 9.45l-7.72 7.72c-.78.78-.78 2.05 0 2.83L4 21.41c.39.39.9.59 1.41.59.51 0 1.02-.2 1.41-.59l7.78-7.78 2.81-2.81c.8-.78.8-2.07 0-2.86zM5.41 20L4 18.59l7.72-7.72 1.47 1.35L5.41 20z\"/>\n",
              "  </svg>\n",
              "      </button>\n",
              "      \n",
              "  <style>\n",
              "    .colab-df-container {\n",
              "      display:flex;\n",
              "      flex-wrap:wrap;\n",
              "      gap: 12px;\n",
              "    }\n",
              "\n",
              "    .colab-df-convert {\n",
              "      background-color: #E8F0FE;\n",
              "      border: none;\n",
              "      border-radius: 50%;\n",
              "      cursor: pointer;\n",
              "      display: none;\n",
              "      fill: #1967D2;\n",
              "      height: 32px;\n",
              "      padding: 0 0 0 0;\n",
              "      width: 32px;\n",
              "    }\n",
              "\n",
              "    .colab-df-convert:hover {\n",
              "      background-color: #E2EBFA;\n",
              "      box-shadow: 0px 1px 2px rgba(60, 64, 67, 0.3), 0px 1px 3px 1px rgba(60, 64, 67, 0.15);\n",
              "      fill: #174EA6;\n",
              "    }\n",
              "\n",
              "    [theme=dark] .colab-df-convert {\n",
              "      background-color: #3B4455;\n",
              "      fill: #D2E3FC;\n",
              "    }\n",
              "\n",
              "    [theme=dark] .colab-df-convert:hover {\n",
              "      background-color: #434B5C;\n",
              "      box-shadow: 0px 1px 3px 1px rgba(0, 0, 0, 0.15);\n",
              "      filter: drop-shadow(0px 1px 2px rgba(0, 0, 0, 0.3));\n",
              "      fill: #FFFFFF;\n",
              "    }\n",
              "  </style>\n",
              "\n",
              "      <script>\n",
              "        const buttonEl =\n",
              "          document.querySelector('#df-a51dab73-b4ff-43dc-b6a9-bd3d024713a1 button.colab-df-convert');\n",
              "        buttonEl.style.display =\n",
              "          google.colab.kernel.accessAllowed ? 'block' : 'none';\n",
              "\n",
              "        async function convertToInteractive(key) {\n",
              "          const element = document.querySelector('#df-a51dab73-b4ff-43dc-b6a9-bd3d024713a1');\n",
              "          const dataTable =\n",
              "            await google.colab.kernel.invokeFunction('convertToInteractive',\n",
              "                                                     [key], {});\n",
              "          if (!dataTable) return;\n",
              "\n",
              "          const docLinkHtml = 'Like what you see? Visit the ' +\n",
              "            '<a target=\"_blank\" href=https://colab.research.google.com/notebooks/data_table.ipynb>data table notebook</a>'\n",
              "            + ' to learn more about interactive tables.';\n",
              "          element.innerHTML = '';\n",
              "          dataTable['output_type'] = 'display_data';\n",
              "          await google.colab.output.renderOutput(dataTable, element);\n",
              "          const docLink = document.createElement('div');\n",
              "          docLink.innerHTML = docLinkHtml;\n",
              "          element.appendChild(docLink);\n",
              "        }\n",
              "      </script>\n",
              "    </div>\n",
              "  </div>\n",
              "  "
            ]
          },
          "metadata": {},
          "execution_count": 20
        }
      ]
    },
    {
      "cell_type": "markdown",
      "source": [
        "Аннотация по генам содержит индекс в виде краткого говорящего названия гена, а также дополнительное поле — gene_id."
      ],
      "metadata": {
        "id": "hWYSApxC79YW"
      }
    },
    {
      "cell_type": "markdown",
      "source": [
        "## Seurat\n",
        "\n",
        "Теперь посмотрим, как аналогичные действия можно выполнить при помощи пакета Seurat."
      ],
      "metadata": {
        "id": "MD1dmMjE8D_N"
      }
    },
    {
      "cell_type": "code",
      "source": [
        "%%R\n",
        "library(Seurat)\n",
        "\n",
        "expression_matrix <- Read10X(data.dir = \"filtered_feature_bc_matrix\")\n",
        "seurat.obj <- CreateSeuratObject(counts = expression_matrix)\n",
        "seurat.obj"
      ],
      "metadata": {
        "colab": {
          "base_uri": "https://localhost:8080/"
        },
        "id": "7_WJrVY_8FBf",
        "outputId": "5c1e7ab0-8a84-4c1d-feb8-23f2e332068c"
      },
      "execution_count": null,
      "outputs": [
        {
          "output_type": "stream",
          "name": "stderr",
          "text": [
            "WARNING:rpy2.rinterface_lib.callbacks:R[write to console]: Attaching SeuratObject\n",
            "\n",
            "WARNING:rpy2.rinterface_lib.callbacks:R[write to console]: Attaching sp\n",
            "\n",
            "WARNING:rpy2.rinterface_lib.callbacks:R[write to console]: as(<dgTMatrix>, \"dgCMatrix\") is deprecated since Matrix 1.5-0; do as(., \"CsparseMatrix\") instead\n",
            "\n"
          ]
        },
        {
          "output_type": "stream",
          "name": "stdout",
          "text": [
            "An object of class Seurat \n",
            "36601 features across 11996 samples within 1 assay \n",
            "Active assay: RNA (36601 features, 0 variable features)\n"
          ]
        }
      ]
    },
    {
      "cell_type": "markdown",
      "source": [
        "Объект Seurat устроен чуть сложнее, чем anndata. Давайте посмотрим названия клеток из датасета:"
      ],
      "metadata": {
        "id": "V1eeunIc95YU"
      }
    },
    {
      "cell_type": "markdown",
      "source": [
        "Как же посмотреть описание клеток? Механика проста и похожа на то, что есть в scanpy:"
      ],
      "metadata": {
        "id": "obNN0p0v9bd5"
      }
    },
    {
      "cell_type": "code",
      "source": [
        "%R seurat.obj[[]]"
      ],
      "metadata": {
        "colab": {
          "base_uri": "https://localhost:8080/",
          "height": 424
        },
        "id": "KK6KGYGy8W8s",
        "outputId": "e512c3af-dac8-488a-b35d-f4b97944a187"
      },
      "execution_count": null,
      "outputs": [
        {
          "output_type": "execute_result",
          "data": {
            "text/plain": [
              "                       orig.ident  nCount_RNA  nFeature_RNA\n",
              "AAACCCAAGGCCCAAA-1  SeuratProject     12143.0          3022\n",
              "AAACCCAAGTAATACG-1  SeuratProject      7811.0          2667\n",
              "AAACCCAAGTCACACT-1  SeuratProject      9741.0          2934\n",
              "AAACCCACAAAGCGTG-1  SeuratProject      5561.0          1525\n",
              "AAACCCACAATCGAAA-1  SeuratProject      7399.0          2078\n",
              "...                           ...         ...           ...\n",
              "TTTGTTGGTTGGATCT-1  SeuratProject      6199.0          1602\n",
              "TTTGTTGGTTTCTTAC-1  SeuratProject      4658.0          1902\n",
              "TTTGTTGTCCATTTCA-1  SeuratProject      5059.0          1551\n",
              "TTTGTTGTCTACACAG-1  SeuratProject      5037.0          2194\n",
              "TTTGTTGTCTCATTAC-1  SeuratProject      8536.0          2730\n",
              "\n",
              "[11996 rows x 3 columns]"
            ],
            "text/html": [
              "\n",
              "  <div id=\"df-7e89cda1-0f4f-4558-97c4-7f394073c652\">\n",
              "    <div class=\"colab-df-container\">\n",
              "      <div>\n",
              "<style scoped>\n",
              "    .dataframe tbody tr th:only-of-type {\n",
              "        vertical-align: middle;\n",
              "    }\n",
              "\n",
              "    .dataframe tbody tr th {\n",
              "        vertical-align: top;\n",
              "    }\n",
              "\n",
              "    .dataframe thead th {\n",
              "        text-align: right;\n",
              "    }\n",
              "</style>\n",
              "<table border=\"1\" class=\"dataframe\">\n",
              "  <thead>\n",
              "    <tr style=\"text-align: right;\">\n",
              "      <th></th>\n",
              "      <th>orig.ident</th>\n",
              "      <th>nCount_RNA</th>\n",
              "      <th>nFeature_RNA</th>\n",
              "    </tr>\n",
              "  </thead>\n",
              "  <tbody>\n",
              "    <tr>\n",
              "      <th>AAACCCAAGGCCCAAA-1</th>\n",
              "      <td>SeuratProject</td>\n",
              "      <td>12143.0</td>\n",
              "      <td>3022</td>\n",
              "    </tr>\n",
              "    <tr>\n",
              "      <th>AAACCCAAGTAATACG-1</th>\n",
              "      <td>SeuratProject</td>\n",
              "      <td>7811.0</td>\n",
              "      <td>2667</td>\n",
              "    </tr>\n",
              "    <tr>\n",
              "      <th>AAACCCAAGTCACACT-1</th>\n",
              "      <td>SeuratProject</td>\n",
              "      <td>9741.0</td>\n",
              "      <td>2934</td>\n",
              "    </tr>\n",
              "    <tr>\n",
              "      <th>AAACCCACAAAGCGTG-1</th>\n",
              "      <td>SeuratProject</td>\n",
              "      <td>5561.0</td>\n",
              "      <td>1525</td>\n",
              "    </tr>\n",
              "    <tr>\n",
              "      <th>AAACCCACAATCGAAA-1</th>\n",
              "      <td>SeuratProject</td>\n",
              "      <td>7399.0</td>\n",
              "      <td>2078</td>\n",
              "    </tr>\n",
              "    <tr>\n",
              "      <th>...</th>\n",
              "      <td>...</td>\n",
              "      <td>...</td>\n",
              "      <td>...</td>\n",
              "    </tr>\n",
              "    <tr>\n",
              "      <th>TTTGTTGGTTGGATCT-1</th>\n",
              "      <td>SeuratProject</td>\n",
              "      <td>6199.0</td>\n",
              "      <td>1602</td>\n",
              "    </tr>\n",
              "    <tr>\n",
              "      <th>TTTGTTGGTTTCTTAC-1</th>\n",
              "      <td>SeuratProject</td>\n",
              "      <td>4658.0</td>\n",
              "      <td>1902</td>\n",
              "    </tr>\n",
              "    <tr>\n",
              "      <th>TTTGTTGTCCATTTCA-1</th>\n",
              "      <td>SeuratProject</td>\n",
              "      <td>5059.0</td>\n",
              "      <td>1551</td>\n",
              "    </tr>\n",
              "    <tr>\n",
              "      <th>TTTGTTGTCTACACAG-1</th>\n",
              "      <td>SeuratProject</td>\n",
              "      <td>5037.0</td>\n",
              "      <td>2194</td>\n",
              "    </tr>\n",
              "    <tr>\n",
              "      <th>TTTGTTGTCTCATTAC-1</th>\n",
              "      <td>SeuratProject</td>\n",
              "      <td>8536.0</td>\n",
              "      <td>2730</td>\n",
              "    </tr>\n",
              "  </tbody>\n",
              "</table>\n",
              "<p>11996 rows × 3 columns</p>\n",
              "</div>\n",
              "      <button class=\"colab-df-convert\" onclick=\"convertToInteractive('df-7e89cda1-0f4f-4558-97c4-7f394073c652')\"\n",
              "              title=\"Convert this dataframe to an interactive table.\"\n",
              "              style=\"display:none;\">\n",
              "        \n",
              "  <svg xmlns=\"http://www.w3.org/2000/svg\" height=\"24px\"viewBox=\"0 0 24 24\"\n",
              "       width=\"24px\">\n",
              "    <path d=\"M0 0h24v24H0V0z\" fill=\"none\"/>\n",
              "    <path d=\"M18.56 5.44l.94 2.06.94-2.06 2.06-.94-2.06-.94-.94-2.06-.94 2.06-2.06.94zm-11 1L8.5 8.5l.94-2.06 2.06-.94-2.06-.94L8.5 2.5l-.94 2.06-2.06.94zm10 10l.94 2.06.94-2.06 2.06-.94-2.06-.94-.94-2.06-.94 2.06-2.06.94z\"/><path d=\"M17.41 7.96l-1.37-1.37c-.4-.4-.92-.59-1.43-.59-.52 0-1.04.2-1.43.59L10.3 9.45l-7.72 7.72c-.78.78-.78 2.05 0 2.83L4 21.41c.39.39.9.59 1.41.59.51 0 1.02-.2 1.41-.59l7.78-7.78 2.81-2.81c.8-.78.8-2.07 0-2.86zM5.41 20L4 18.59l7.72-7.72 1.47 1.35L5.41 20z\"/>\n",
              "  </svg>\n",
              "      </button>\n",
              "      \n",
              "  <style>\n",
              "    .colab-df-container {\n",
              "      display:flex;\n",
              "      flex-wrap:wrap;\n",
              "      gap: 12px;\n",
              "    }\n",
              "\n",
              "    .colab-df-convert {\n",
              "      background-color: #E8F0FE;\n",
              "      border: none;\n",
              "      border-radius: 50%;\n",
              "      cursor: pointer;\n",
              "      display: none;\n",
              "      fill: #1967D2;\n",
              "      height: 32px;\n",
              "      padding: 0 0 0 0;\n",
              "      width: 32px;\n",
              "    }\n",
              "\n",
              "    .colab-df-convert:hover {\n",
              "      background-color: #E2EBFA;\n",
              "      box-shadow: 0px 1px 2px rgba(60, 64, 67, 0.3), 0px 1px 3px 1px rgba(60, 64, 67, 0.15);\n",
              "      fill: #174EA6;\n",
              "    }\n",
              "\n",
              "    [theme=dark] .colab-df-convert {\n",
              "      background-color: #3B4455;\n",
              "      fill: #D2E3FC;\n",
              "    }\n",
              "\n",
              "    [theme=dark] .colab-df-convert:hover {\n",
              "      background-color: #434B5C;\n",
              "      box-shadow: 0px 1px 3px 1px rgba(0, 0, 0, 0.15);\n",
              "      filter: drop-shadow(0px 1px 2px rgba(0, 0, 0, 0.3));\n",
              "      fill: #FFFFFF;\n",
              "    }\n",
              "  </style>\n",
              "\n",
              "      <script>\n",
              "        const buttonEl =\n",
              "          document.querySelector('#df-7e89cda1-0f4f-4558-97c4-7f394073c652 button.colab-df-convert');\n",
              "        buttonEl.style.display =\n",
              "          google.colab.kernel.accessAllowed ? 'block' : 'none';\n",
              "\n",
              "        async function convertToInteractive(key) {\n",
              "          const element = document.querySelector('#df-7e89cda1-0f4f-4558-97c4-7f394073c652');\n",
              "          const dataTable =\n",
              "            await google.colab.kernel.invokeFunction('convertToInteractive',\n",
              "                                                     [key], {});\n",
              "          if (!dataTable) return;\n",
              "\n",
              "          const docLinkHtml = 'Like what you see? Visit the ' +\n",
              "            '<a target=\"_blank\" href=https://colab.research.google.com/notebooks/data_table.ipynb>data table notebook</a>'\n",
              "            + ' to learn more about interactive tables.';\n",
              "          element.innerHTML = '';\n",
              "          dataTable['output_type'] = 'display_data';\n",
              "          await google.colab.output.renderOutput(dataTable, element);\n",
              "          const docLink = document.createElement('div');\n",
              "          docLink.innerHTML = docLinkHtml;\n",
              "          element.appendChild(docLink);\n",
              "        }\n",
              "      </script>\n",
              "    </div>\n",
              "  </div>\n",
              "  "
            ]
          },
          "metadata": {},
          "execution_count": 22
        }
      ]
    },
    {
      "cell_type": "code",
      "source": [
        "%R seurat.obj$tissue <- \"PBMC\"\n",
        "%R seurat.obj[[]]"
      ],
      "metadata": {
        "colab": {
          "base_uri": "https://localhost:8080/",
          "height": 424
        },
        "id": "ql7fku0EBC1i",
        "outputId": "afcaab95-993e-4ce1-dcf3-705611f7df63"
      },
      "execution_count": null,
      "outputs": [
        {
          "output_type": "execute_result",
          "data": {
            "text/plain": [
              "                       orig.ident  nCount_RNA  nFeature_RNA tissue\n",
              "AAACCCAAGGCCCAAA-1  SeuratProject     12143.0          3022   PBMC\n",
              "AAACCCAAGTAATACG-1  SeuratProject      7811.0          2667   PBMC\n",
              "AAACCCAAGTCACACT-1  SeuratProject      9741.0          2934   PBMC\n",
              "AAACCCACAAAGCGTG-1  SeuratProject      5561.0          1525   PBMC\n",
              "AAACCCACAATCGAAA-1  SeuratProject      7399.0          2078   PBMC\n",
              "...                           ...         ...           ...    ...\n",
              "TTTGTTGGTTGGATCT-1  SeuratProject      6199.0          1602   PBMC\n",
              "TTTGTTGGTTTCTTAC-1  SeuratProject      4658.0          1902   PBMC\n",
              "TTTGTTGTCCATTTCA-1  SeuratProject      5059.0          1551   PBMC\n",
              "TTTGTTGTCTACACAG-1  SeuratProject      5037.0          2194   PBMC\n",
              "TTTGTTGTCTCATTAC-1  SeuratProject      8536.0          2730   PBMC\n",
              "\n",
              "[11996 rows x 4 columns]"
            ],
            "text/html": [
              "\n",
              "  <div id=\"df-39d200c7-b591-40cb-aa5f-2afb6aa1be3a\">\n",
              "    <div class=\"colab-df-container\">\n",
              "      <div>\n",
              "<style scoped>\n",
              "    .dataframe tbody tr th:only-of-type {\n",
              "        vertical-align: middle;\n",
              "    }\n",
              "\n",
              "    .dataframe tbody tr th {\n",
              "        vertical-align: top;\n",
              "    }\n",
              "\n",
              "    .dataframe thead th {\n",
              "        text-align: right;\n",
              "    }\n",
              "</style>\n",
              "<table border=\"1\" class=\"dataframe\">\n",
              "  <thead>\n",
              "    <tr style=\"text-align: right;\">\n",
              "      <th></th>\n",
              "      <th>orig.ident</th>\n",
              "      <th>nCount_RNA</th>\n",
              "      <th>nFeature_RNA</th>\n",
              "      <th>tissue</th>\n",
              "    </tr>\n",
              "  </thead>\n",
              "  <tbody>\n",
              "    <tr>\n",
              "      <th>AAACCCAAGGCCCAAA-1</th>\n",
              "      <td>SeuratProject</td>\n",
              "      <td>12143.0</td>\n",
              "      <td>3022</td>\n",
              "      <td>PBMC</td>\n",
              "    </tr>\n",
              "    <tr>\n",
              "      <th>AAACCCAAGTAATACG-1</th>\n",
              "      <td>SeuratProject</td>\n",
              "      <td>7811.0</td>\n",
              "      <td>2667</td>\n",
              "      <td>PBMC</td>\n",
              "    </tr>\n",
              "    <tr>\n",
              "      <th>AAACCCAAGTCACACT-1</th>\n",
              "      <td>SeuratProject</td>\n",
              "      <td>9741.0</td>\n",
              "      <td>2934</td>\n",
              "      <td>PBMC</td>\n",
              "    </tr>\n",
              "    <tr>\n",
              "      <th>AAACCCACAAAGCGTG-1</th>\n",
              "      <td>SeuratProject</td>\n",
              "      <td>5561.0</td>\n",
              "      <td>1525</td>\n",
              "      <td>PBMC</td>\n",
              "    </tr>\n",
              "    <tr>\n",
              "      <th>AAACCCACAATCGAAA-1</th>\n",
              "      <td>SeuratProject</td>\n",
              "      <td>7399.0</td>\n",
              "      <td>2078</td>\n",
              "      <td>PBMC</td>\n",
              "    </tr>\n",
              "    <tr>\n",
              "      <th>...</th>\n",
              "      <td>...</td>\n",
              "      <td>...</td>\n",
              "      <td>...</td>\n",
              "      <td>...</td>\n",
              "    </tr>\n",
              "    <tr>\n",
              "      <th>TTTGTTGGTTGGATCT-1</th>\n",
              "      <td>SeuratProject</td>\n",
              "      <td>6199.0</td>\n",
              "      <td>1602</td>\n",
              "      <td>PBMC</td>\n",
              "    </tr>\n",
              "    <tr>\n",
              "      <th>TTTGTTGGTTTCTTAC-1</th>\n",
              "      <td>SeuratProject</td>\n",
              "      <td>4658.0</td>\n",
              "      <td>1902</td>\n",
              "      <td>PBMC</td>\n",
              "    </tr>\n",
              "    <tr>\n",
              "      <th>TTTGTTGTCCATTTCA-1</th>\n",
              "      <td>SeuratProject</td>\n",
              "      <td>5059.0</td>\n",
              "      <td>1551</td>\n",
              "      <td>PBMC</td>\n",
              "    </tr>\n",
              "    <tr>\n",
              "      <th>TTTGTTGTCTACACAG-1</th>\n",
              "      <td>SeuratProject</td>\n",
              "      <td>5037.0</td>\n",
              "      <td>2194</td>\n",
              "      <td>PBMC</td>\n",
              "    </tr>\n",
              "    <tr>\n",
              "      <th>TTTGTTGTCTCATTAC-1</th>\n",
              "      <td>SeuratProject</td>\n",
              "      <td>8536.0</td>\n",
              "      <td>2730</td>\n",
              "      <td>PBMC</td>\n",
              "    </tr>\n",
              "  </tbody>\n",
              "</table>\n",
              "<p>11996 rows × 4 columns</p>\n",
              "</div>\n",
              "      <button class=\"colab-df-convert\" onclick=\"convertToInteractive('df-39d200c7-b591-40cb-aa5f-2afb6aa1be3a')\"\n",
              "              title=\"Convert this dataframe to an interactive table.\"\n",
              "              style=\"display:none;\">\n",
              "        \n",
              "  <svg xmlns=\"http://www.w3.org/2000/svg\" height=\"24px\"viewBox=\"0 0 24 24\"\n",
              "       width=\"24px\">\n",
              "    <path d=\"M0 0h24v24H0V0z\" fill=\"none\"/>\n",
              "    <path d=\"M18.56 5.44l.94 2.06.94-2.06 2.06-.94-2.06-.94-.94-2.06-.94 2.06-2.06.94zm-11 1L8.5 8.5l.94-2.06 2.06-.94-2.06-.94L8.5 2.5l-.94 2.06-2.06.94zm10 10l.94 2.06.94-2.06 2.06-.94-2.06-.94-.94-2.06-.94 2.06-2.06.94z\"/><path d=\"M17.41 7.96l-1.37-1.37c-.4-.4-.92-.59-1.43-.59-.52 0-1.04.2-1.43.59L10.3 9.45l-7.72 7.72c-.78.78-.78 2.05 0 2.83L4 21.41c.39.39.9.59 1.41.59.51 0 1.02-.2 1.41-.59l7.78-7.78 2.81-2.81c.8-.78.8-2.07 0-2.86zM5.41 20L4 18.59l7.72-7.72 1.47 1.35L5.41 20z\"/>\n",
              "  </svg>\n",
              "      </button>\n",
              "      \n",
              "  <style>\n",
              "    .colab-df-container {\n",
              "      display:flex;\n",
              "      flex-wrap:wrap;\n",
              "      gap: 12px;\n",
              "    }\n",
              "\n",
              "    .colab-df-convert {\n",
              "      background-color: #E8F0FE;\n",
              "      border: none;\n",
              "      border-radius: 50%;\n",
              "      cursor: pointer;\n",
              "      display: none;\n",
              "      fill: #1967D2;\n",
              "      height: 32px;\n",
              "      padding: 0 0 0 0;\n",
              "      width: 32px;\n",
              "    }\n",
              "\n",
              "    .colab-df-convert:hover {\n",
              "      background-color: #E2EBFA;\n",
              "      box-shadow: 0px 1px 2px rgba(60, 64, 67, 0.3), 0px 1px 3px 1px rgba(60, 64, 67, 0.15);\n",
              "      fill: #174EA6;\n",
              "    }\n",
              "\n",
              "    [theme=dark] .colab-df-convert {\n",
              "      background-color: #3B4455;\n",
              "      fill: #D2E3FC;\n",
              "    }\n",
              "\n",
              "    [theme=dark] .colab-df-convert:hover {\n",
              "      background-color: #434B5C;\n",
              "      box-shadow: 0px 1px 3px 1px rgba(0, 0, 0, 0.15);\n",
              "      filter: drop-shadow(0px 1px 2px rgba(0, 0, 0, 0.3));\n",
              "      fill: #FFFFFF;\n",
              "    }\n",
              "  </style>\n",
              "\n",
              "      <script>\n",
              "        const buttonEl =\n",
              "          document.querySelector('#df-39d200c7-b591-40cb-aa5f-2afb6aa1be3a button.colab-df-convert');\n",
              "        buttonEl.style.display =\n",
              "          google.colab.kernel.accessAllowed ? 'block' : 'none';\n",
              "\n",
              "        async function convertToInteractive(key) {\n",
              "          const element = document.querySelector('#df-39d200c7-b591-40cb-aa5f-2afb6aa1be3a');\n",
              "          const dataTable =\n",
              "            await google.colab.kernel.invokeFunction('convertToInteractive',\n",
              "                                                     [key], {});\n",
              "          if (!dataTable) return;\n",
              "\n",
              "          const docLinkHtml = 'Like what you see? Visit the ' +\n",
              "            '<a target=\"_blank\" href=https://colab.research.google.com/notebooks/data_table.ipynb>data table notebook</a>'\n",
              "            + ' to learn more about interactive tables.';\n",
              "          element.innerHTML = '';\n",
              "          dataTable['output_type'] = 'display_data';\n",
              "          await google.colab.output.renderOutput(dataTable, element);\n",
              "          const docLink = document.createElement('div');\n",
              "          docLink.innerHTML = docLinkHtml;\n",
              "          element.appendChild(docLink);\n",
              "        }\n",
              "      </script>\n",
              "    </div>\n",
              "  </div>\n",
              "  "
            ]
          },
          "metadata": {},
          "execution_count": 23
        }
      ]
    },
    {
      "cell_type": "markdown",
      "source": [
        "Теперь давайте выведем экспрессии генов <i>CD3D</i>, <i>TCL1A</i> и <i>MS4A1</i> у первых двадцати клеток в Seurat и scanpy:"
      ],
      "metadata": {
        "id": "fhXcjnO9D6yM"
      }
    },
    {
      "cell_type": "code",
      "source": [
        "%%R\n",
        "GetAssayData(object = seurat.obj[c(\"CD3D\", \"TCL1A\", \"MS4A1\"), 1:20], slot = \"counts\")"
      ],
      "metadata": {
        "colab": {
          "base_uri": "https://localhost:8080/"
        },
        "id": "vlbE-CV5ELds",
        "outputId": "b644bb77-7b64-427c-d19c-e162008f3e86"
      },
      "execution_count": null,
      "outputs": [
        {
          "output_type": "stream",
          "name": "stdout",
          "text": [
            "3 x 20 sparse Matrix of class \"dgCMatrix\"\n",
            "                                             \n",
            "[1,] . . . 1 . . . 20 2 8 . . . 5 3 . . . . 5\n",
            "[2,] . . . . . . .  . . . . . . . . . . . . .\n",
            "[3,] . . . . 9 6 .  . . . . . . . . . . . . .\n"
          ]
        }
      ]
    },
    {
      "cell_type": "code",
      "source": [
        "print(adata[:20, [\"CD3D\", \"TCL1A\", \"MS4A1\"]].X.A.T)"
      ],
      "metadata": {
        "colab": {
          "base_uri": "https://localhost:8080/"
        },
        "id": "DyG3U5sd8-kC",
        "outputId": "04c118db-1a57-4da4-d465-d06813373b74"
      },
      "execution_count": null,
      "outputs": [
        {
          "output_type": "stream",
          "name": "stdout",
          "text": [
            "[[ 0.  0.  0.  1.  0.  0.  0. 20.  2.  8.  0.  0.  0.  5.  3.  0.  0.  0.\n",
            "   0.  5.]\n",
            " [ 0.  0.  0.  0.  0.  0.  0.  0.  0.  0.  0.  0.  0.  0.  0.  0.  0.  0.\n",
            "   0.  0.]\n",
            " [ 0.  0.  0.  0.  9.  6.  0.  0.  0.  0.  0.  0.  0.  0.  0.  0.  0.  0.\n",
            "   0.  0.]]\n"
          ]
        }
      ]
    },
    {
      "cell_type": "markdown",
      "source": [
        "### Задание\n",
        "\n",
        "Постройте диаграмму рассения, в которой по одной оси будет экспрессия гена <i>CD8A</i>, а на другой &mdash; экспрессия <i>CD4</i>."
      ],
      "metadata": {
        "id": "PtwoWdv3FCdP"
      }
    },
    {
      "cell_type": "code",
      "source": [
        "import seaborn as sns\n",
        "sns.scatterplot(x=adata[:, \"CD3E\"].X.A.T[0], y=adata[:, \"CD3D\"].X.A.T[0])"
      ],
      "metadata": {
        "id": "DSB8nILWFByp",
        "colab": {
          "base_uri": "https://localhost:8080/",
          "height": 282
        },
        "outputId": "c126ef2d-1a2e-4872-c878-9f3dd9cd90c7"
      },
      "execution_count": null,
      "outputs": [
        {
          "output_type": "execute_result",
          "data": {
            "text/plain": [
              "<AxesSubplot:>"
            ]
          },
          "metadata": {},
          "execution_count": 41
        },
        {
          "output_type": "display_data",
          "data": {
            "text/plain": [
              "<Figure size 432x288 with 1 Axes>"
            ],
            "image/png": "[encoded data removed]"
          },
          "metadata": {
            "needs_background": "light"
          }
        }
      ]
    },
    {
      "cell_type": "markdown",
      "source": [
        "### Задание\n",
        "\n",
        "Возьмите значения столбца `nCount_RNA` из Seurat-объекта и добавьте его в объект `adata`."
      ],
      "metadata": {
        "id": "DRA-XyjeFXW8"
      }
    },
    {
      "cell_type": "code",
      "source": [
        "%%R -o ncounts\n",
        "ncounts <- seurat.obj[[\"nCount_RNA\"]]"
      ],
      "metadata": {
        "id": "nRdu4cQOFj20"
      },
      "execution_count": null,
      "outputs": []
    },
    {
      "cell_type": "code",
      "source": [
        "ncounts.index = [bc.split(\"-\")[0] + \":don1\" for bc in ncounts.index]"
      ],
      "metadata": {
        "id": "brnJbqIWE9gf"
      },
      "execution_count": null,
      "outputs": []
    },
    {
      "cell_type": "code",
      "source": [
        "adata.obs[\"nCount_RNA\"] = ncounts\n",
        "adata.obs"
      ],
      "metadata": {
        "colab": {
          "base_uri": "https://localhost:8080/",
          "height": 424
        },
        "id": "kowac5exEzV9",
        "outputId": "72345156-e700-48e0-f56d-fcd9ee28c34e"
      },
      "execution_count": null,
      "outputs": [
        {
          "output_type": "execute_result",
          "data": {
            "text/plain": [
              "                      tissue  nCount_RNA\n",
              "AAACCCAAGGCCCAAA:don1   PBMC     12143.0\n",
              "AAACCCAAGTAATACG:don1   PBMC      7811.0\n",
              "AAACCCAAGTCACACT:don1   PBMC      9741.0\n",
              "AAACCCACAAAGCGTG:don1   PBMC      5561.0\n",
              "AAACCCACAATCGAAA:don1   PBMC      7399.0\n",
              "...                      ...         ...\n",
              "TTTGTTGGTTGGATCT:don1   PBMC      6199.0\n",
              "TTTGTTGGTTTCTTAC:don1   PBMC      4658.0\n",
              "TTTGTTGTCCATTTCA:don1   PBMC      5059.0\n",
              "TTTGTTGTCTACACAG:don1   PBMC      5037.0\n",
              "TTTGTTGTCTCATTAC:don1   PBMC      8536.0\n",
              "\n",
              "[11996 rows x 2 columns]"
            ],
            "text/html": [
              "\n",
              "  <div id=\"df-d9375230-1ccb-43b9-af77-7e2d5f885227\">\n",
              "    <div class=\"colab-df-container\">\n",
              "      <div>\n",
              "<style scoped>\n",
              "    .dataframe tbody tr th:only-of-type {\n",
              "        vertical-align: middle;\n",
              "    }\n",
              "\n",
              "    .dataframe tbody tr th {\n",
              "        vertical-align: top;\n",
              "    }\n",
              "\n",
              "    .dataframe thead th {\n",
              "        text-align: right;\n",
              "    }\n",
              "</style>\n",
              "<table border=\"1\" class=\"dataframe\">\n",
              "  <thead>\n",
              "    <tr style=\"text-align: right;\">\n",
              "      <th></th>\n",
              "      <th>tissue</th>\n",
              "      <th>nCount_RNA</th>\n",
              "    </tr>\n",
              "  </thead>\n",
              "  <tbody>\n",
              "    <tr>\n",
              "      <th>AAACCCAAGGCCCAAA:don1</th>\n",
              "      <td>PBMC</td>\n",
              "      <td>12143.0</td>\n",
              "    </tr>\n",
              "    <tr>\n",
              "      <th>AAACCCAAGTAATACG:don1</th>\n",
              "      <td>PBMC</td>\n",
              "      <td>7811.0</td>\n",
              "    </tr>\n",
              "    <tr>\n",
              "      <th>AAACCCAAGTCACACT:don1</th>\n",
              "      <td>PBMC</td>\n",
              "      <td>9741.0</td>\n",
              "    </tr>\n",
              "    <tr>\n",
              "      <th>AAACCCACAAAGCGTG:don1</th>\n",
              "      <td>PBMC</td>\n",
              "      <td>5561.0</td>\n",
              "    </tr>\n",
              "    <tr>\n",
              "      <th>AAACCCACAATCGAAA:don1</th>\n",
              "      <td>PBMC</td>\n",
              "      <td>7399.0</td>\n",
              "    </tr>\n",
              "    <tr>\n",
              "      <th>...</th>\n",
              "      <td>...</td>\n",
              "      <td>...</td>\n",
              "    </tr>\n",
              "    <tr>\n",
              "      <th>TTTGTTGGTTGGATCT:don1</th>\n",
              "      <td>PBMC</td>\n",
              "      <td>6199.0</td>\n",
              "    </tr>\n",
              "    <tr>\n",
              "      <th>TTTGTTGGTTTCTTAC:don1</th>\n",
              "      <td>PBMC</td>\n",
              "      <td>4658.0</td>\n",
              "    </tr>\n",
              "    <tr>\n",
              "      <th>TTTGTTGTCCATTTCA:don1</th>\n",
              "      <td>PBMC</td>\n",
              "      <td>5059.0</td>\n",
              "    </tr>\n",
              "    <tr>\n",
              "      <th>TTTGTTGTCTACACAG:don1</th>\n",
              "      <td>PBMC</td>\n",
              "      <td>5037.0</td>\n",
              "    </tr>\n",
              "    <tr>\n",
              "      <th>TTTGTTGTCTCATTAC:don1</th>\n",
              "      <td>PBMC</td>\n",
              "      <td>8536.0</td>\n",
              "    </tr>\n",
              "  </tbody>\n",
              "</table>\n",
              "<p>11996 rows × 2 columns</p>\n",
              "</div>\n",
              "      <button class=\"colab-df-convert\" onclick=\"convertToInteractive('df-d9375230-1ccb-43b9-af77-7e2d5f885227')\"\n",
              "              title=\"Convert this dataframe to an interactive table.\"\n",
              "              style=\"display:none;\">\n",
              "        \n",
              "  <svg xmlns=\"http://www.w3.org/2000/svg\" height=\"24px\"viewBox=\"0 0 24 24\"\n",
              "       width=\"24px\">\n",
              "    <path d=\"M0 0h24v24H0V0z\" fill=\"none\"/>\n",
              "    <path d=\"M18.56 5.44l.94 2.06.94-2.06 2.06-.94-2.06-.94-.94-2.06-.94 2.06-2.06.94zm-11 1L8.5 8.5l.94-2.06 2.06-.94-2.06-.94L8.5 2.5l-.94 2.06-2.06.94zm10 10l.94 2.06.94-2.06 2.06-.94-2.06-.94-.94-2.06-.94 2.06-2.06.94z\"/><path d=\"M17.41 7.96l-1.37-1.37c-.4-.4-.92-.59-1.43-.59-.52 0-1.04.2-1.43.59L10.3 9.45l-7.72 7.72c-.78.78-.78 2.05 0 2.83L4 21.41c.39.39.9.59 1.41.59.51 0 1.02-.2 1.41-.59l7.78-7.78 2.81-2.81c.8-.78.8-2.07 0-2.86zM5.41 20L4 18.59l7.72-7.72 1.47 1.35L5.41 20z\"/>\n",
              "  </svg>\n",
              "      </button>\n",
              "      \n",
              "  <style>\n",
              "    .colab-df-container {\n",
              "      display:flex;\n",
              "      flex-wrap:wrap;\n",
              "      gap: 12px;\n",
              "    }\n",
              "\n",
              "    .colab-df-convert {\n",
              "      background-color: #E8F0FE;\n",
              "      border: none;\n",
              "      border-radius: 50%;\n",
              "      cursor: pointer;\n",
              "      display: none;\n",
              "      fill: #1967D2;\n",
              "      height: 32px;\n",
              "      padding: 0 0 0 0;\n",
              "      width: 32px;\n",
              "    }\n",
              "\n",
              "    .colab-df-convert:hover {\n",
              "      background-color: #E2EBFA;\n",
              "      box-shadow: 0px 1px 2px rgba(60, 64, 67, 0.3), 0px 1px 3px 1px rgba(60, 64, 67, 0.15);\n",
              "      fill: #174EA6;\n",
              "    }\n",
              "\n",
              "    [theme=dark] .colab-df-convert {\n",
              "      background-color: #3B4455;\n",
              "      fill: #D2E3FC;\n",
              "    }\n",
              "\n",
              "    [theme=dark] .colab-df-convert:hover {\n",
              "      background-color: #434B5C;\n",
              "      box-shadow: 0px 1px 3px 1px rgba(0, 0, 0, 0.15);\n",
              "      filter: drop-shadow(0px 1px 2px rgba(0, 0, 0, 0.3));\n",
              "      fill: #FFFFFF;\n",
              "    }\n",
              "  </style>\n",
              "\n",
              "      <script>\n",
              "        const buttonEl =\n",
              "          document.querySelector('#df-d9375230-1ccb-43b9-af77-7e2d5f885227 button.colab-df-convert');\n",
              "        buttonEl.style.display =\n",
              "          google.colab.kernel.accessAllowed ? 'block' : 'none';\n",
              "\n",
              "        async function convertToInteractive(key) {\n",
              "          const element = document.querySelector('#df-d9375230-1ccb-43b9-af77-7e2d5f885227');\n",
              "          const dataTable =\n",
              "            await google.colab.kernel.invokeFunction('convertToInteractive',\n",
              "                                                     [key], {});\n",
              "          if (!dataTable) return;\n",
              "\n",
              "          const docLinkHtml = 'Like what you see? Visit the ' +\n",
              "            '<a target=\"_blank\" href=https://colab.research.google.com/notebooks/data_table.ipynb>data table notebook</a>'\n",
              "            + ' to learn more about interactive tables.';\n",
              "          element.innerHTML = '';\n",
              "          dataTable['output_type'] = 'display_data';\n",
              "          await google.colab.output.renderOutput(dataTable, element);\n",
              "          const docLink = document.createElement('div');\n",
              "          docLink.innerHTML = docLinkHtml;\n",
              "          element.appendChild(docLink);\n",
              "        }\n",
              "      </script>\n",
              "    </div>\n",
              "  </div>\n",
              "  "
            ]
          },
          "metadata": {},
          "execution_count": 48
        }
      ]
    },
    {
      "cell_type": "markdown",
      "source": [
        "## SingleCellExperiment и anndata2ri\n",
        "\n",
        "В дальнейшем удобно будет пользоваться тем, что существует пакет <code>anndata2ri</code>, который позволяет из окружения Python передать объект AnnData в окружение R, трансформировав его в объект класса SingleCellExperiment. В свою очередь объект класса SingleCellExperiment может быть легко трансформирован в Seurat."
      ],
      "metadata": {
        "id": "XSkODBDJg_Kp"
      }
    },
    {
      "cell_type": "code",
      "source": [
        "%%R -i adata\n",
        "adata"
      ],
      "metadata": {
        "colab": {
          "base_uri": "https://localhost:8080/"
        },
        "id": "eWYVaOk_hIxg",
        "outputId": "81d19ca1-4c81-46e6-86ed-2ea1d3ba275e"
      },
      "execution_count": null,
      "outputs": [
        {
          "output_type": "stream",
          "name": "stderr",
          "text": [
            "/usr/local/lib/python3.7/dist-packages/anndata2ri/r2py.py:106: FutureWarning: X.dtype being converted to np.float32 from float64. In the next version of anndata (0.9) conversion will not be automatic. Pass dtype explicitly to avoid this warning. Pass `AnnData(X, dtype=X.dtype, ...)` to get the future behavour.\n",
            "  return AnnData(exprs, obs, var, uns, obsm or None, layers=layers)\n"
          ]
        },
        {
          "output_type": "stream",
          "name": "stdout",
          "text": [
            "class: SingleCellExperiment \n",
            "dim: 36601 11996 \n",
            "metadata(0):\n",
            "assays(1): X\n",
            "rownames(36601): MIR1302-2HG FAM138A ... AC007325.4 AC007325.2\n",
            "rowData names(2): gene_ids feature_types\n",
            "colnames(11996): AAACCCAAGGCCCAAA:don1 AAACCCAAGTAATACG:don1 ...\n",
            "  TTTGTTGTCTACACAG:don1 TTTGTTGTCTCATTAC:don1\n",
            "colData names(2): tissue nCount_RNA\n",
            "reducedDimNames(0):\n",
            "mainExpName: NULL\n",
            "altExpNames(0):\n"
          ]
        }
      ]
    },
    {
      "cell_type": "code",
      "source": [
        "%%R\n",
        "adata.to.seurat <- as.Seurat(adata, data = NULL, counts = \"X\")\n",
        "adata.to.seurat"
      ],
      "metadata": {
        "colab": {
          "base_uri": "https://localhost:8080/"
        },
        "id": "XvreImzmhS3T",
        "outputId": "1e0c240d-edd0-4a05-fd87-6c4f5dae68e2"
      },
      "execution_count": null,
      "outputs": [
        {
          "output_type": "stream",
          "name": "stdout",
          "text": [
            "An object of class Seurat \n",
            "36601 features across 11996 samples within 1 assay \n",
            "Active assay: originalexp (36601 features, 0 variable features)\n"
          ]
        }
      ]
    },
    {
      "cell_type": "code",
      "source": [
        "%R adata.to.seurat[[]]"
      ],
      "metadata": {
        "colab": {
          "base_uri": "https://localhost:8080/",
          "height": 424
        },
        "id": "7HCM1FHTrAoi",
        "outputId": "68232a2f-0e17-43e5-9618-cbe808dc4e52"
      },
      "execution_count": null,
      "outputs": [
        {
          "output_type": "execute_result",
          "data": {
            "text/plain": [
              "                          orig.ident  nCount_originalexp  \\\n",
              "AAACCCAAGGCCCAAA:don1  SeuratProject             12143.0   \n",
              "AAACCCAAGTAATACG:don1  SeuratProject              7811.0   \n",
              "AAACCCAAGTCACACT:don1  SeuratProject              9741.0   \n",
              "AAACCCACAAAGCGTG:don1  SeuratProject              5561.0   \n",
              "AAACCCACAATCGAAA:don1  SeuratProject              7399.0   \n",
              "...                              ...                 ...   \n",
              "TTTGTTGGTTGGATCT:don1  SeuratProject              6199.0   \n",
              "TTTGTTGGTTTCTTAC:don1  SeuratProject              4658.0   \n",
              "TTTGTTGTCCATTTCA:don1  SeuratProject              5059.0   \n",
              "TTTGTTGTCTACACAG:don1  SeuratProject              5037.0   \n",
              "TTTGTTGTCTCATTAC:don1  SeuratProject              8536.0   \n",
              "\n",
              "                       nFeature_originalexp tissue  nCount_RNA  \n",
              "AAACCCAAGGCCCAAA:don1                  3022   PBMC     12143.0  \n",
              "AAACCCAAGTAATACG:don1                  2667   PBMC      7811.0  \n",
              "AAACCCAAGTCACACT:don1                  2934   PBMC      9741.0  \n",
              "AAACCCACAAAGCGTG:don1                  1525   PBMC      5561.0  \n",
              "AAACCCACAATCGAAA:don1                  2078   PBMC      7399.0  \n",
              "...                                     ...    ...         ...  \n",
              "TTTGTTGGTTGGATCT:don1                  1602   PBMC      6199.0  \n",
              "TTTGTTGGTTTCTTAC:don1                  1902   PBMC      4658.0  \n",
              "TTTGTTGTCCATTTCA:don1                  1551   PBMC      5059.0  \n",
              "TTTGTTGTCTACACAG:don1                  2194   PBMC      5037.0  \n",
              "TTTGTTGTCTCATTAC:don1                  2730   PBMC      8536.0  \n",
              "\n",
              "[11996 rows x 5 columns]"
            ],
            "text/html": [
              "\n",
              "  <div id=\"df-37c4444d-9752-400e-b2cb-2c4905dedf75\">\n",
              "    <div class=\"colab-df-container\">\n",
              "      <div>\n",
              "<style scoped>\n",
              "    .dataframe tbody tr th:only-of-type {\n",
              "        vertical-align: middle;\n",
              "    }\n",
              "\n",
              "    .dataframe tbody tr th {\n",
              "        vertical-align: top;\n",
              "    }\n",
              "\n",
              "    .dataframe thead th {\n",
              "        text-align: right;\n",
              "    }\n",
              "</style>\n",
              "<table border=\"1\" class=\"dataframe\">\n",
              "  <thead>\n",
              "    <tr style=\"text-align: right;\">\n",
              "      <th></th>\n",
              "      <th>orig.ident</th>\n",
              "      <th>nCount_originalexp</th>\n",
              "      <th>nFeature_originalexp</th>\n",
              "      <th>tissue</th>\n",
              "      <th>nCount_RNA</th>\n",
              "    </tr>\n",
              "  </thead>\n",
              "  <tbody>\n",
              "    <tr>\n",
              "      <th>AAACCCAAGGCCCAAA:don1</th>\n",
              "      <td>SeuratProject</td>\n",
              "      <td>12143.0</td>\n",
              "      <td>3022</td>\n",
              "      <td>PBMC</td>\n",
              "      <td>12143.0</td>\n",
              "    </tr>\n",
              "    <tr>\n",
              "      <th>AAACCCAAGTAATACG:don1</th>\n",
              "      <td>SeuratProject</td>\n",
              "      <td>7811.0</td>\n",
              "      <td>2667</td>\n",
              "      <td>PBMC</td>\n",
              "      <td>7811.0</td>\n",
              "    </tr>\n",
              "    <tr>\n",
              "      <th>AAACCCAAGTCACACT:don1</th>\n",
              "      <td>SeuratProject</td>\n",
              "      <td>9741.0</td>\n",
              "      <td>2934</td>\n",
              "      <td>PBMC</td>\n",
              "      <td>9741.0</td>\n",
              "    </tr>\n",
              "    <tr>\n",
              "      <th>AAACCCACAAAGCGTG:don1</th>\n",
              "      <td>SeuratProject</td>\n",
              "      <td>5561.0</td>\n",
              "      <td>1525</td>\n",
              "      <td>PBMC</td>\n",
              "      <td>5561.0</td>\n",
              "    </tr>\n",
              "    <tr>\n",
              "      <th>AAACCCACAATCGAAA:don1</th>\n",
              "      <td>SeuratProject</td>\n",
              "      <td>7399.0</td>\n",
              "      <td>2078</td>\n",
              "      <td>PBMC</td>\n",
              "      <td>7399.0</td>\n",
              "    </tr>\n",
              "    <tr>\n",
              "      <th>...</th>\n",
              "      <td>...</td>\n",
              "      <td>...</td>\n",
              "      <td>...</td>\n",
              "      <td>...</td>\n",
              "      <td>...</td>\n",
              "    </tr>\n",
              "    <tr>\n",
              "      <th>TTTGTTGGTTGGATCT:don1</th>\n",
              "      <td>SeuratProject</td>\n",
              "      <td>6199.0</td>\n",
              "      <td>1602</td>\n",
              "      <td>PBMC</td>\n",
              "      <td>6199.0</td>\n",
              "    </tr>\n",
              "    <tr>\n",
              "      <th>TTTGTTGGTTTCTTAC:don1</th>\n",
              "      <td>SeuratProject</td>\n",
              "      <td>4658.0</td>\n",
              "      <td>1902</td>\n",
              "      <td>PBMC</td>\n",
              "      <td>4658.0</td>\n",
              "    </tr>\n",
              "    <tr>\n",
              "      <th>TTTGTTGTCCATTTCA:don1</th>\n",
              "      <td>SeuratProject</td>\n",
              "      <td>5059.0</td>\n",
              "      <td>1551</td>\n",
              "      <td>PBMC</td>\n",
              "      <td>5059.0</td>\n",
              "    </tr>\n",
              "    <tr>\n",
              "      <th>TTTGTTGTCTACACAG:don1</th>\n",
              "      <td>SeuratProject</td>\n",
              "      <td>5037.0</td>\n",
              "      <td>2194</td>\n",
              "      <td>PBMC</td>\n",
              "      <td>5037.0</td>\n",
              "    </tr>\n",
              "    <tr>\n",
              "      <th>TTTGTTGTCTCATTAC:don1</th>\n",
              "      <td>SeuratProject</td>\n",
              "      <td>8536.0</td>\n",
              "      <td>2730</td>\n",
              "      <td>PBMC</td>\n",
              "      <td>8536.0</td>\n",
              "    </tr>\n",
              "  </tbody>\n",
              "</table>\n",
              "<p>11996 rows × 5 columns</p>\n",
              "</div>\n",
              "      <button class=\"colab-df-convert\" onclick=\"convertToInteractive('df-37c4444d-9752-400e-b2cb-2c4905dedf75')\"\n",
              "              title=\"Convert this dataframe to an interactive table.\"\n",
              "              style=\"display:none;\">\n",
              "        \n",
              "  <svg xmlns=\"http://www.w3.org/2000/svg\" height=\"24px\"viewBox=\"0 0 24 24\"\n",
              "       width=\"24px\">\n",
              "    <path d=\"M0 0h24v24H0V0z\" fill=\"none\"/>\n",
              "    <path d=\"M18.56 5.44l.94 2.06.94-2.06 2.06-.94-2.06-.94-.94-2.06-.94 2.06-2.06.94zm-11 1L8.5 8.5l.94-2.06 2.06-.94-2.06-.94L8.5 2.5l-.94 2.06-2.06.94zm10 10l.94 2.06.94-2.06 2.06-.94-2.06-.94-.94-2.06-.94 2.06-2.06.94z\"/><path d=\"M17.41 7.96l-1.37-1.37c-.4-.4-.92-.59-1.43-.59-.52 0-1.04.2-1.43.59L10.3 9.45l-7.72 7.72c-.78.78-.78 2.05 0 2.83L4 21.41c.39.39.9.59 1.41.59.51 0 1.02-.2 1.41-.59l7.78-7.78 2.81-2.81c.8-.78.8-2.07 0-2.86zM5.41 20L4 18.59l7.72-7.72 1.47 1.35L5.41 20z\"/>\n",
              "  </svg>\n",
              "      </button>\n",
              "      \n",
              "  <style>\n",
              "    .colab-df-container {\n",
              "      display:flex;\n",
              "      flex-wrap:wrap;\n",
              "      gap: 12px;\n",
              "    }\n",
              "\n",
              "    .colab-df-convert {\n",
              "      background-color: #E8F0FE;\n",
              "      border: none;\n",
              "      border-radius: 50%;\n",
              "      cursor: pointer;\n",
              "      display: none;\n",
              "      fill: #1967D2;\n",
              "      height: 32px;\n",
              "      padding: 0 0 0 0;\n",
              "      width: 32px;\n",
              "    }\n",
              "\n",
              "    .colab-df-convert:hover {\n",
              "      background-color: #E2EBFA;\n",
              "      box-shadow: 0px 1px 2px rgba(60, 64, 67, 0.3), 0px 1px 3px 1px rgba(60, 64, 67, 0.15);\n",
              "      fill: #174EA6;\n",
              "    }\n",
              "\n",
              "    [theme=dark] .colab-df-convert {\n",
              "      background-color: #3B4455;\n",
              "      fill: #D2E3FC;\n",
              "    }\n",
              "\n",
              "    [theme=dark] .colab-df-convert:hover {\n",
              "      background-color: #434B5C;\n",
              "      box-shadow: 0px 1px 3px 1px rgba(0, 0, 0, 0.15);\n",
              "      filter: drop-shadow(0px 1px 2px rgba(0, 0, 0, 0.3));\n",
              "      fill: #FFFFFF;\n",
              "    }\n",
              "  </style>\n",
              "\n",
              "      <script>\n",
              "        const buttonEl =\n",
              "          document.querySelector('#df-37c4444d-9752-400e-b2cb-2c4905dedf75 button.colab-df-convert');\n",
              "        buttonEl.style.display =\n",
              "          google.colab.kernel.accessAllowed ? 'block' : 'none';\n",
              "\n",
              "        async function convertToInteractive(key) {\n",
              "          const element = document.querySelector('#df-37c4444d-9752-400e-b2cb-2c4905dedf75');\n",
              "          const dataTable =\n",
              "            await google.colab.kernel.invokeFunction('convertToInteractive',\n",
              "                                                     [key], {});\n",
              "          if (!dataTable) return;\n",
              "\n",
              "          const docLinkHtml = 'Like what you see? Visit the ' +\n",
              "            '<a target=\"_blank\" href=https://colab.research.google.com/notebooks/data_table.ipynb>data table notebook</a>'\n",
              "            + ' to learn more about interactive tables.';\n",
              "          element.innerHTML = '';\n",
              "          dataTable['output_type'] = 'display_data';\n",
              "          await google.colab.output.renderOutput(dataTable, element);\n",
              "          const docLink = document.createElement('div');\n",
              "          docLink.innerHTML = docLinkHtml;\n",
              "          element.appendChild(docLink);\n",
              "        }\n",
              "      </script>\n",
              "    </div>\n",
              "  </div>\n",
              "  "
            ]
          },
          "metadata": {},
          "execution_count": 51
        }
      ]
    },
    {
      "cell_type": "markdown",
      "source": [
        "### Задание\n",
        "\n",
        "Попробуйте выбрать только те клетки, у которых в сумме больше, чем 10000 молекул, а также только те гены, которые экспрессируются более, чем в 3 клетках. Сделайте это как в Seurat, так и в scanpy, после чего обменяйте переменные в окружениях (например, <code>adata_filtered</code> переместите в окружение R и назовите его там <code>adata.to.Seurat.filtered</code>, и наоборот)."
      ],
      "metadata": {
        "id": "FOBulS8Rs3MX"
      }
    },
    {
      "cell_type": "code",
      "source": [
        "adata = adata[:, (adata.X > 0).sum(axis=0).A[0] > 3]\n",
        "adata = adata[adata.X.sum(axis=1) > 10000]\n",
        "adata"
      ],
      "metadata": {
        "id": "aiPeR83fr8IC",
        "colab": {
          "base_uri": "https://localhost:8080/"
        },
        "outputId": "66866f8d-fcec-4498-e244-509818a01891"
      },
      "execution_count": null,
      "outputs": [
        {
          "output_type": "execute_result",
          "data": {
            "text/plain": [
              "View of AnnData object with n_obs × n_vars = 2944 × 21460\n",
              "    var: 'gene_ids', 'feature_types'"
            ]
          },
          "metadata": {},
          "execution_count": 79
        }
      ]
    },
    {
      "cell_type": "code",
      "source": [
        "%%R\n",
        "seurat.filtered <- seurat.obj[rowSums(GetAssayData(object = seurat.obj, slot = \"counts\") > 0) > 3,]\n",
        "seurat.filtered <- seurat.filtered[,colSums(GetAssayData(object = seurat.filtered, slot = \"counts\")) > 10000]\n",
        "seurat.filtered"
      ],
      "metadata": {
        "colab": {
          "base_uri": "https://localhost:8080/"
        },
        "id": "3PcBJYyWGsu7",
        "outputId": "ab4b5b9d-c163-4d2d-e1f7-858d250c765e"
      },
      "execution_count": null,
      "outputs": [
        {
          "output_type": "stream",
          "name": "stdout",
          "text": [
            "An object of class Seurat \n",
            "21460 features across 2944 samples within 1 assay \n",
            "Active assay: RNA (21460 features, 0 variable features)\n"
          ]
        }
      ]
    },
    {
      "cell_type": "code",
      "source": [
        "%%R -o sce\n",
        "sce <- as.SingleCellExperiment(seurat.filtered)"
      ],
      "metadata": {
        "colab": {
          "base_uri": "https://localhost:8080/"
        },
        "id": "ms9HsMSPJ7YV",
        "outputId": "8e1b8ae3-0126-44f4-81be-7233aabf2235"
      },
      "execution_count": null,
      "outputs": [
        {
          "output_type": "stream",
          "name": "stderr",
          "text": [
            "/usr/local/lib/python3.7/dist-packages/anndata2ri/r2py.py:106: FutureWarning: X.dtype being converted to np.float32 from float64. In the next version of anndata (0.9) conversion will not be automatic. Pass dtype explicitly to avoid this warning. Pass `AnnData(X, dtype=X.dtype, ...)` to get the future behavour.\n",
            "  return AnnData(exprs, obs, var, uns, obsm or None, layers=layers)\n"
          ]
        }
      ]
    },
    {
      "cell_type": "markdown",
      "source": [
        "## Домашнее задание\n",
        "\n",
        "Сделайте несколько вспомогательных функций, которые вам позднее пригодятся:\n",
        "1. Разбиение одного объекта AnnData на список других, соответствующих каждому индивидуальному батчу;\n",
        "2. Создание нового объекта со случайными N клетками и M генами из изначального;\n",
        "3. Сохранение вашего AnnData-объекта как Seurat-объекта в формате `.rds`."
      ],
      "metadata": {
        "id": "TR6okaf89F4Q"
      }
    },
    {
      "cell_type": "code",
      "source": [],
      "metadata": {
        "id": "TXIz0MZH9ztj",
        "colab": {
          "base_uri": "https://localhost:8080/"
        },
        "outputId": "460e2072-80cc-4dbb-f33d-7245b250dc02"
      },
      "execution_count": null,
      "outputs": [
        {
          "output_type": "execute_result",
          "data": {
            "text/plain": [
              "{'1': Ellipsis}"
            ]
          },
          "metadata": {},
          "execution_count": 90
        }
      ]
    },
    {
      "cell_type": "code",
      "source": [],
      "metadata": {
        "colab": {
          "base_uri": "https://localhost:8080/"
        },
        "id": "NGhbgmhpJaSH",
        "outputId": "23c1368e-14a9-45ab-fb37-e72cc3de497c"
      },
      "execution_count": null,
      "outputs": [
        {
          "output_type": "execute_result",
          "data": {
            "text/plain": [
              "View of AnnData object with n_obs × n_vars = 2944 × 21460\n",
              "    var: 'gene_ids', 'feature_types'"
            ]
          },
          "metadata": {},
          "execution_count": 81
        }
      ]
    },
    {
      "cell_type": "code",
      "source": [],
      "metadata": {
        "id": "3Xic3jsIJa6V"
      },
      "execution_count": null,
      "outputs": []
    }
  ],
  "metadata": {
    "colab": {
      "collapsed_sections": [
        "LPH5QQ9Y8ASP",
        "MD1dmMjE8D_N",
        "XSkODBDJg_Kp",
        "TR6okaf89F4Q"
      ],
      "provenance": [],
      "include_colab_link": true
    },
    "kernelspec": {
      "display_name": "Python 3",
      "name": "python3"
    },
    "language_info": {
      "name": "python"
    }
  },
  "nbformat": 4,
  "nbformat_minor": 0
}