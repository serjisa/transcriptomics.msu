{
  "cells": [
    {
      "cell_type": "markdown",
      "metadata": {
        "id": "view-in-github",
        "colab_type": "text"
      },
      "source": [
        "<a href=\"https://colab.research.google.com/github/serjisa/transcriptomics.msu/blob/main/%D0%A1%D0%B5%D0%BC%D0%B8%D0%BD%D0%B0%D1%80%D1%8B/00_%D0%A3%D1%81%D1%82%D0%B0%D0%BD%D0%BE%D0%B2%D0%BA%D0%B0_%D0%BF%D0%B0%D0%BA%D0%B5%D1%82%D0%BE%D0%B2.ipynb\" target=\"_parent\"><img src=\"https://colab.research.google.com/assets/colab-badge.svg\" alt=\"Open In Colab\"/></a>"
      ]
    },
    {
      "cell_type": "markdown",
      "metadata": {
        "id": "V67cia4EXH5a"
      },
      "source": [
        "# Установка необходимых пакетов"
      ]
    },
    {
      "cell_type": "markdown",
      "source": [
        "## Python"
      ],
      "metadata": {
        "id": "77UkODvnYCwI"
      }
    },
    {
      "cell_type": "markdown",
      "source": [
        "Основные пакеты (потребуются примерно на всех занятиях):"
      ],
      "metadata": {
        "id": "wCG3XKdQYFL8"
      }
    },
    {
      "cell_type": "code",
      "source": [
        "!pip3 install scanpy[leiden] anndata2ri scikit-misc scvi-tools\n",
        "\n",
        "# Необходимо, чтобы конкретно прогрузился matplotlib\n",
        "import os\n",
        "os.kill(os.getpid(), 9)"
      ],
      "metadata": {
        "id": "5mdq8J9KXwgZ"
      },
      "execution_count": null,
      "outputs": []
    },
    {
      "cell_type": "markdown",
      "source": [
        "Пакеты с батч-коррекцией (потребуются на занятии по батч-коррекции и дальше):"
      ],
      "metadata": {
        "id": "ZhV7y3d4YMpP"
      }
    },
    {
      "cell_type": "code",
      "source": [
        "!pip3 install bbknn harmonypy scanorama"
      ],
      "metadata": {
        "id": "PS8iv-bDYM3x"
      },
      "execution_count": null,
      "outputs": []
    },
    {
      "cell_type": "markdown",
      "source": [
        "Пакеты для работы с мультимодальными данными:"
      ],
      "metadata": {
        "id": "qCVYFtY9YVDU"
      }
    },
    {
      "cell_type": "code",
      "source": [
        "!pip3 install muon mofapy2"
      ],
      "metadata": {
        "id": "tGjt75c9YZpM"
      },
      "execution_count": null,
      "outputs": []
    },
    {
      "cell_type": "markdown",
      "source": [
        "Пакеты для Trajectory inference и RNA velocity:"
      ],
      "metadata": {
        "id": "l3yz-HfTYb1j"
      }
    },
    {
      "cell_type": "code",
      "source": [
        "!pip3 install scvelo scFates"
      ],
      "metadata": {
        "id": "M_uUuAZxYfum"
      },
      "execution_count": null,
      "outputs": []
    },
    {
      "cell_type": "markdown",
      "source": [
        "## R"
      ],
      "metadata": {
        "id": "Cs1NNYi9YfIK"
      }
    },
    {
      "cell_type": "markdown",
      "source": [
        "Основные пакеты (потребуются на части занятий):"
      ],
      "metadata": {
        "id": "sEFcDWijYjCy"
      }
    },
    {
      "cell_type": "code",
      "source": [
        "# Загрузка R magic\n",
        "%load_ext rpy2.ipython\n",
        "\n",
        "# Загрузка необходимых системных пакетов\n",
        "!apt-get install libgmp3-dev libcairo2-dev libharfbuzz-dev libfribidi-dev libudunits2-dev"
      ],
      "metadata": {
        "id": "ZxfT5TR9Yibi"
      },
      "execution_count": null,
      "outputs": []
    },
    {
      "cell_type": "code",
      "source": [
        "!Rscript -e 'install.packages(c(\"Seurat\", \"BiocManager\"), repos=\"https://cloud.r-project.org\")'\n",
        "!Rscript -e 'BiocManager::install(\"SingleCellExperiment\", \"DropletUtils\")'"
      ],
      "metadata": {
        "id": "Ilr7EP1bY11-"
      },
      "execution_count": null,
      "outputs": []
    },
    {
      "cell_type": "markdown",
      "source": [
        "Пакеты для батч-коррекции:"
      ],
      "metadata": {
        "id": "S3yHaUP6YvZY"
      }
    },
    {
      "cell_type": "code",
      "source": [
        "!Rscript -e 'BiocManager::install(\"ComplexHeatmap\")'\n",
        "!Rscript -e 'install.packages(c(\"conos\", \"pagoda2\"), repos=\"https://cloud.r-project.org\")'"
      ],
      "metadata": {
        "id": "66Hr-Gk_YzKI"
      },
      "execution_count": null,
      "outputs": []
    },
    {
      "cell_type": "markdown",
      "source": [
        "Пакеты для дифференциальной экспрессии:"
      ],
      "metadata": {
        "id": "fLKqmenLYyoQ"
      }
    },
    {
      "cell_type": "code",
      "source": [
        "!Rscript -e 'BiocManager::install(с(\"DESeq2\", \"edgeR\", \"tximport\"))'"
      ],
      "metadata": {
        "id": "lfA-AYMpY6z5"
      },
      "execution_count": null,
      "outputs": []
    },
    {
      "cell_type": "markdown",
      "source": [
        "Пакеты с геномными аннотациями:"
      ],
      "metadata": {
        "id": "zuL7se95dYcn"
      }
    },
    {
      "cell_type": "code",
      "source": [
        "!Rscript -e 'BiocManager::install(\"EnsDb.Mmusculus.v79\", \"org.Mm.eg.db\", \"EnsDb.Hsapiens.v86\", \"org.Hs.eg.db\")'"
      ],
      "metadata": {
        "id": "rRaMbSpkdX0D"
      },
      "execution_count": null,
      "outputs": []
    },
    {
      "cell_type": "markdown",
      "source": [
        "Пакеты для Trajectory inference:"
      ],
      "metadata": {
        "id": "wf6bvLRwZRSa"
      }
    },
    {
      "cell_type": "code",
      "source": [
        "!Rscript -e 'BiocManager::install(c(\"kstreet13/slingshot\", \"BiocGenerics\", \"DelayedArray\", \"DelayedMatrixStats\"))'\n",
        "!Rscript -e 'BiocManager::install(c(\"limma\", \"S4Vectors\", \"SingleCellExperiment\", \"SummarizedExperiment\"))'\n",
        "!Rscript -e 'BiocManager::install(c(\"batchelor\", \"Matrix.utils\", \"HDF5Array\", \"terra\", \"ggrastr\", \"lme4\"))'\n",
        "!Rscript -e 'BiocManager::install(c(\"glmGamPoi\"))'\n",
        "!Rscript -e 'install.packages(c(\"devtools\"), repos=\"https://cloud.r-project.org\")'\n",
        "!Rscript -e 'devtools::install_github(\"cole-trapnell-lab/monocle3\")'"
      ],
      "metadata": {
        "id": "mfg_VoPLXx0O"
      },
      "execution_count": null,
      "outputs": []
    },
    {
      "cell_type": "markdown",
      "source": [
        "Сохранение установленных библиотек R:"
      ],
      "metadata": {
        "id": "8eqP3eb6ZXct"
      }
    },
    {
      "cell_type": "code",
      "source": [
        "!sudo Rscript -e 'tar(\"library.tar.gz\", \"/usr/local/lib/R/site-library\")'\n",
        "from google.colab import drive\n",
        "drive.mount('/content/drive')\n",
        "!cp library.tar.gz drive/MyDrive/"
      ],
      "metadata": {
        "id": "4-R9gm8bZZwL"
      },
      "execution_count": null,
      "outputs": []
    },
    {
      "cell_type": "markdown",
      "source": [
        "Загрузка необходимых пакетов для R:"
      ],
      "metadata": {
        "id": "evAI7_J-bZw1"
      }
    },
    {
      "cell_type": "code",
      "source": [
        "!apt-get install libgmp3-dev libcairo2-dev libharfbuzz-dev libfribidi-dev libudunits2-dev\n",
        "!gdown --id 1W0TuuQospxcasOX5cQdhT_Xd-k7-QAck\n",
        "!tar xf library.tar.gz"
      ],
      "metadata": {
        "id": "t3GyMU3fbcXH"
      },
      "execution_count": null,
      "outputs": []
    },
    {
      "cell_type": "code",
      "source": [
        "import anndata2ri\n",
        "anndata2ri.activate()\n",
        "%load_ext rpy2.ipython\n",
        "%R .libPaths(\"usr/local/lib/R/site-library/\")"
      ],
      "metadata": {
        "id": "jpZBqZvokpEW"
      },
      "execution_count": null,
      "outputs": []
    }
  ],
  "metadata": {
    "colab": {
      "provenance": [],
      "collapsed_sections": [],
      "include_colab_link": true
    },
    "kernelspec": {
      "display_name": "Python 3",
      "name": "python3"
    },
    "language_info": {
      "name": "python"
    }
  },
  "nbformat": 4,
  "nbformat_minor": 0
}