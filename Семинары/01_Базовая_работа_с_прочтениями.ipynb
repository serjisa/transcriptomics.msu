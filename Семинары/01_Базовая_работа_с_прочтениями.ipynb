{
  "cells": [
    {
      "cell_type": "markdown",
      "metadata": {
        "id": "view-in-github",
        "colab_type": "text"
      },
      "source": [
        "<a href=\"https://colab.research.google.com/github/serjisa/transcriptomics.msu/blob/main/%D0%A1%D0%B5%D0%BC%D0%B8%D0%BD%D0%B0%D1%80%D1%8B/01_%D0%91%D0%B0%D0%B7%D0%BE%D0%B2%D0%B0%D1%8F_%D1%80%D0%B0%D0%B1%D0%BE%D1%82%D0%B0_%D1%81_%D0%BF%D1%80%D0%BE%D1%87%D1%82%D0%B5%D0%BD%D0%B8%D1%8F%D0%BC%D0%B8.ipynb\" target=\"_parent\"><img src=\"https://colab.research.google.com/assets/colab-badge.svg\" alt=\"Open In Colab\"/></a>"
      ]
    },
    {
      "cell_type": "markdown",
      "metadata": {
        "id": "V67cia4EXH5a"
      },
      "source": [
        "# Семинар 1. Базовая работа с прочтениями\n",
        "\n",
        "На этом семинаре мы разберём, как хранятся прочтения, какие есть открытые базы данных с прочтениями, а также то, как с ними правильно работать."
      ]
    },
    {
      "cell_type": "markdown",
      "metadata": {
        "id": "4rLoS9QsdRhx"
      },
      "source": [
        "В данной части мы (для уменьшения времени выполнения) будем опираться на датасет <code>SRR3900953</code> (это не RNA-Seq!), однако абсолютно все те же процедуры можно выполнить и для RNA-Seq прочтений (про это будет домашнее задание)."
      ]
    },
    {
      "cell_type": "markdown",
      "metadata": {
        "id": "6Oo_Qo8dcnth"
      },
      "source": [
        "## Загрузка прочтений"
      ]
    },
    {
      "cell_type": "markdown",
      "metadata": {
        "id": "bI4GQExsmKSP"
      },
      "source": [
        "### SRA Toolkit"
      ]
    },
    {
      "cell_type": "markdown",
      "metadata": {
        "id": "Pu1G84tsmmxM"
      },
      "source": [
        "Для того, чтобы загрузить SRA-эксперимент и преобразовать его в .fastq-прочтения (мы сделаем это одновременно одной командой, однако можно выполнить их независимо), необходимо выполнить следующие команды. Сначала мы загрузим SRA Toolkit с сайта NCBI:"
      ]
    },
    {
      "cell_type": "code",
      "execution_count": null,
      "metadata": {
        "id": "8Io2LvW2fW-L"
      },
      "outputs": [],
      "source": [
        "!wget https://ftp-trace.ncbi.nlm.nih.gov/sra/sdk/3.0.0/sratoolkit.3.0.0-ubuntu64.tar.gz\n",
        "!tar -xvzf sratoolkit.3.0.0-ubuntu64.tar.gz"
      ]
    },
    {
      "cell_type": "markdown",
      "source": [
        "Нам необходимо загрузить прочтения при помощи программы <code>fasterq-dump</code> из SRA Toolkit. Внутри Google Colab настроить SRA Toolkit правильно крайне сложно, поэтому необходимо будет выполнить некоторую странную процедуру: специально вызвать Segmentation fault у инструмента <code>vdb-config</code>."
      ],
      "metadata": {
        "id": "A7Pi8Jvhnwpv"
      }
    },
    {
      "cell_type": "code",
      "execution_count": null,
      "metadata": {
        "id": "dTfvxgxCfnBi",
        "colab": {
          "base_uri": "https://localhost:8080/"
        },
        "outputId": "9dc2902f-7baa-4a17-8658-9cee52fad75b"
      },
      "outputs": [
        {
          "output_type": "stream",
          "name": "stdout",
          "text": [
            "\u001b[2J\u001b[?25l\u001b[?1000h\u001b[?1002h2022-09-09T14:24:49 vdb-config.3.0.0 fatal: SIGNAL - Segmentation fault \n"
          ]
        }
      ],
      "source": [
        "!sratoolkit.3.0.0-ubuntu64/bin/vdb-config -i"
      ]
    },
    {
      "cell_type": "markdown",
      "source": [
        "Теперь мы можем спокойно запустить <code>fastq-dump</code> и разархивировать наши прочтения:"
      ],
      "metadata": {
        "id": "5Zv1dtd7o7S9"
      }
    },
    {
      "cell_type": "code",
      "source": [
        "!sratoolkit.3.0.0-ubuntu64/bin/fasterq-dump SRR3900953"
      ],
      "metadata": {
        "colab": {
          "base_uri": "https://localhost:8080/"
        },
        "id": "Oww6_RFqnMDT",
        "outputId": "8f62201b-28ed-40bc-9baa-8819dc450b86"
      },
      "execution_count": null,
      "outputs": [
        {
          "output_type": "stream",
          "name": "stdout",
          "text": [
            "spots read      : 4,941,237\n",
            "reads read      : 9,882,474\n",
            "reads written   : 9,882,474\n"
          ]
        }
      ]
    },
    {
      "cell_type": "code",
      "source": [
        "!tail SRR3900953_1.fastq"
      ],
      "metadata": {
        "colab": {
          "base_uri": "https://localhost:8080/"
        },
        "id": "9CiTchhspfjm",
        "outputId": "a9783951-aff1-4356-8023-182ce37b60ff"
      },
      "execution_count": null,
      "outputs": [
        {
          "output_type": "stream",
          "name": "stdout",
          "text": [
            "+SRR3900953.4941235 8_2316_17189_101340_2 length=60\n",
            "CCCCCGGGCGGGGGGGGGCGGGGGEG@@FGGGGGGF>FGEFGGG>EGAGBFGGCF>GBG1\n",
            "@SRR3900953.4941236 8_2316_17335_101333_2 length=60\n",
            "CATGCGGTTTGGATGTGTTTGTTGAATGCAAGCCTGTGGAGGCGTTAACGTCTCAGTTAC\n",
            "+SRR3900953.4941236 8_2316_17335_101333_2 length=60\n",
            "BBCCCEGGGGGGGGGGGGGGGGGGGGGGGGGGGGGGGGGGGGGGGGGGGGGGGGGGGGGG\n",
            "@SRR3900953.4941237 8_2316_17416_101338_2 length=60\n",
            "CATGCCTGGTGTAAGGAAAATATCTGAGAACCGTCAGTGCAAAATCCATGCAATGTGGCC\n",
            "+SRR3900953.4941237 8_2316_17416_101338_2 length=60\n",
            "BCCBCCGGGGGGGGGGGGGGGGGGGGGGGGGGGGGGGGGGGGGGGGGGGGGGGGGGGGEG\n"
          ]
        }
      ]
    },
    {
      "cell_type": "markdown",
      "metadata": {
        "id": "l2PwnKaKmdtB"
      },
      "source": [
        "### SRA Explorer"
      ]
    },
    {
      "cell_type": "markdown",
      "metadata": {
        "id": "cIYjJgzgmpv1"
      },
      "source": [
        "Однако кроме вариантов загрузки из SRA при помощи SRA Toolkit можно попробовать загрузить прочтения при помощи web-страницы <a href=\"https://sra-explorer.info/\">SRA Explorer</a> &mdash; в таком случае пользователю просто будут указаны прямые ссылки на прочтения, а также много дополнительной информации. Однако не всегда это и правда поможет. Давайте посмотрим, какой результат будет при загрузке прочтений того же эксперимента из этого сервиса:"
      ]
    },
    {
      "cell_type": "code",
      "execution_count": null,
      "metadata": {
        "colab": {
          "base_uri": "https://localhost:8080/"
        },
        "id": "ISnLFse3XEwB",
        "outputId": "88cc201c-3d41-476f-b518-b282db1c1d80"
      },
      "outputs": [
        {
          "output_type": "stream",
          "name": "stdout",
          "text": [
            "--2022-09-09 14:32:11--  ftp://ftp.sra.ebi.ac.uk/vol1/fastq/SRR390/003/SRR3900953/SRR3900953_1.fastq.gz\n",
            "           => ‘SRR3900953_1.fastq.gz’\n",
            "Resolving ftp.sra.ebi.ac.uk (ftp.sra.ebi.ac.uk)... 193.62.193.138\n",
            "Connecting to ftp.sra.ebi.ac.uk (ftp.sra.ebi.ac.uk)|193.62.193.138|:21... connected.\n",
            "Logging in as anonymous ... Logged in!\n",
            "==> SYST ... done.    ==> PWD ... done.\n",
            "==> TYPE I ... done.  ==> CWD (1) /vol1/fastq/SRR390/003/SRR3900953 ... done.\n",
            "==> SIZE SRR3900953_1.fastq.gz ... 196393222\n",
            "==> PASV ... done.    ==> RETR SRR3900953_1.fastq.gz ... done.\n",
            "Length: 196393222 (187M) (unauthoritative)\n",
            "\n",
            "SRR3900953_1.fastq. 100%[===================>] 187.29M  24.3MB/s    in 9.1s    \n",
            "\n",
            "2022-09-09 14:32:22 (20.7 MB/s) - ‘SRR3900953_1.fastq.gz’ saved [196393222]\n",
            "\n",
            "--2022-09-09 14:32:22--  ftp://ftp.sra.ebi.ac.uk/vol1/fastq/SRR390/003/SRR3900953/SRR3900953_2.fastq.gz\n",
            "           => ‘SRR3900953_2.fastq.gz’\n",
            "Resolving ftp.sra.ebi.ac.uk (ftp.sra.ebi.ac.uk)... 193.62.193.138\n",
            "Connecting to ftp.sra.ebi.ac.uk (ftp.sra.ebi.ac.uk)|193.62.193.138|:21... connected.\n",
            "Logging in as anonymous ... Logged in!\n",
            "==> SYST ... done.    ==> PWD ... done.\n",
            "==> TYPE I ... done.  ==> CWD (1) /vol1/fastq/SRR390/003/SRR3900953 ... done.\n",
            "==> SIZE SRR3900953_2.fastq.gz ... 223659231\n",
            "==> PASV ... done.    ==> RETR SRR3900953_2.fastq.gz ... done.\n",
            "Length: 223659231 (213M) (unauthoritative)\n",
            "\n",
            "SRR3900953_2.fastq. 100%[===================>] 213.30M  16.1MB/s    in 47s     \n",
            "\n",
            "2022-09-09 14:33:10 (4.58 MB/s) - ‘SRR3900953_2.fastq.gz’ saved [223659231]\n",
            "\n"
          ]
        }
      ],
      "source": [
        "!wget ftp://ftp.sra.ebi.ac.uk/vol1/fastq/SRR390/003/SRR3900953/SRR3900953_1.fastq.gz\n",
        "!wget ftp://ftp.sra.ebi.ac.uk/vol1/fastq/SRR390/003/SRR3900953/SRR3900953_2.fastq.gz"
      ]
    },
    {
      "cell_type": "markdown",
      "source": [
        "Конкретно в данном случае всё хорошо, однако посмотрите на то, что предлагает загрузить SRA Explorer в случае с датасетом <code>SRR6410603</code> (из <a href=\"https://www.nature.com/articles/s41598-018-23226-4\">статьи</a>, с которой вы будете работать дома). Иногда для того, чтобы конкретно распарсить SRA-файл, необходимо чётко обозначить, что файл с прочтениями нужно разбить на два &mdash; с прямыми и с обратными (в случае парноконцевого секвенирования). Здесь это сделано не было. Программа <code>fasterq-dump</code> это делает автоматически."
      ],
      "metadata": {
        "id": "3ktnEtOsqbBi"
      }
    },
    {
      "cell_type": "markdown",
      "source": [
        "#### Задание\n",
        "\n",
        "Прочитайте описание <a href=\"https://github.com/ncbi/sra-tools/wiki/HowTo:-fasterq-dump\">функции fasterq-dump</a> и ответьте на вопрос: какой командой мы сможем получить вместо нескольких файлов с прочтениями (прямыми и обратными) всего один?"
      ],
      "metadata": {
        "id": "nfwWlxpHrN1s"
      }
    },
    {
      "cell_type": "code",
      "source": [
        "!sratoolkit.3.0.0-ubuntu64/bin/fasterq-dump --concatenate-reads SRR3900953"
      ],
      "metadata": {
        "id": "mN-S-jJNra7s",
        "colab": {
          "base_uri": "https://localhost:8080/"
        },
        "outputId": "b2e9c9d3-5042-4bea-e71f-f02516bfab4b"
      },
      "execution_count": null,
      "outputs": [
        {
          "output_type": "stream",
          "name": "stdout",
          "text": [
            "spots read      : 4,941,237\n",
            "reads read      : 4,941,237\n",
            "reads written   : 4,941,237\n"
          ]
        }
      ]
    },
    {
      "cell_type": "code",
      "source": [
        "!head -n 4 SRR3900953.fastq"
      ],
      "metadata": {
        "colab": {
          "base_uri": "https://localhost:8080/"
        },
        "id": "MxL1QsP6sPy3",
        "outputId": "6abca2c3-4d28-49a2-e1a4-7e800d36aa3c"
      },
      "execution_count": null,
      "outputs": [
        {
          "output_type": "stream",
          "name": "stdout",
          "text": [
            "@SRR3900953.1 8_1101_5015_2203_1 length=120\n",
            "AATTCCACAAAAAACTGGCATAGAAGCAATAGGAAAAATACTTGCCAGCACTGAAAAAATCCAGGATATATAGCCTTTATCCAAGTTCATACTTAGCCATAATGCATTTAAATTAATCAA\n",
            "+SRR3900953.1 8_1101_5015_2203_1 length=120\n",
            "GGGGGGCGGGEGGDDFDGGGGEGGGCGGGGGG:@GGGGGGGGGGGGGEGEFC1E@DGGFGGGGGGFECCFFGC1E1:FF>CFGEF:@D>GEG>:FEEFGFGG@8FGCDCDGG08C@FGF0\n"
          ]
        }
      ]
    },
    {
      "cell_type": "code",
      "source": [
        "!head -n 4 SRR3900953_1.fastq"
      ],
      "metadata": {
        "colab": {
          "base_uri": "https://localhost:8080/"
        },
        "id": "TQaBOK1YsWZl",
        "outputId": "be02a210-4d3e-4f19-8f70-7712a8c1a399"
      },
      "execution_count": null,
      "outputs": [
        {
          "output_type": "stream",
          "name": "stdout",
          "text": [
            "@SRR3900953.1 8_1101_5015_2203_1 length=60\n",
            "AATTCCACAAAAAACTGGCATAGAAGCAATAGGAAAAATACTTGCCAGCACTGAAAAAAT\n",
            "+SRR3900953.1 8_1101_5015_2203_1 length=60\n",
            "GGGGGGCGGGEGGDDFDGGGGEGGGCGGGGGG:@GGGGGGGGGGGGGEGEFC1E@DGGFG\n"
          ]
        }
      ]
    },
    {
      "cell_type": "code",
      "source": [
        "!head -n 4 SRR3900953_2.fastq"
      ],
      "metadata": {
        "colab": {
          "base_uri": "https://localhost:8080/"
        },
        "id": "KaKD9DnisheJ",
        "outputId": "d3927b4f-72b4-4948-be6d-d271e554456a"
      },
      "execution_count": null,
      "outputs": [
        {
          "output_type": "stream",
          "name": "stdout",
          "text": [
            "@SRR3900953.1 8_1101_5015_2203_1 length=60\n",
            "CCAGGATATATAGCCTTTATCCAAGTTCATACTTAGCCATAATGCATTTAAATTAATCAA\n",
            "+SRR3900953.1 8_1101_5015_2203_1 length=60\n",
            "GGGGGFECCFFGC1E1:FF>CFGEF:@D>GEG>:FEEFGFGG@8FGCDCDGG08C@FGF0\n"
          ]
        }
      ]
    },
    {
      "cell_type": "markdown",
      "metadata": {
        "id": "upB-1luOndSV"
      },
      "source": [
        "## Контроль качества прочтений"
      ]
    },
    {
      "cell_type": "markdown",
      "source": [
        "### FastQC\n",
        "\n",
        "Для начала загрузим программу, при помощи которой мы будем проводить оценку качества, &mdash; <code>FastQC</code>."
      ],
      "metadata": {
        "id": "yaAbLnqz8Gz-"
      }
    },
    {
      "cell_type": "code",
      "execution_count": null,
      "metadata": {
        "id": "u4IUo_zmeF5O",
        "colab": {
          "base_uri": "https://localhost:8080/"
        },
        "outputId": "6aa90954-6d05-4430-b4f1-62b2217283c7"
      },
      "outputs": [
        {
          "output_type": "stream",
          "name": "stdout",
          "text": [
            "--2022-09-09 14:42:42--  https://www.bioinformatics.babraham.ac.uk/projects/fastqc/fastqc_v0.11.9.zip\n",
            "Resolving www.bioinformatics.babraham.ac.uk (www.bioinformatics.babraham.ac.uk)... 149.155.133.4\n",
            "Connecting to www.bioinformatics.babraham.ac.uk (www.bioinformatics.babraham.ac.uk)|149.155.133.4|:443... connected.\n",
            "HTTP request sent, awaiting response... 200 OK\n",
            "Length: 10249221 (9.8M) [application/zip]\n",
            "Saving to: ‘fastqc_v0.11.9.zip’\n",
            "\n",
            "fastqc_v0.11.9.zip  100%[===================>]   9.77M  5.92MB/s    in 1.7s    \n",
            "\n",
            "2022-09-09 14:42:44 (5.92 MB/s) - ‘fastqc_v0.11.9.zip’ saved [10249221/10249221]\n",
            "\n",
            "Archive:  fastqc_v0.11.9.zip\n",
            "  inflating: FastQC/cisd-jhdf5.jar   \n",
            "   creating: FastQC/Configuration/\n",
            "  inflating: FastQC/Configuration/adapter_list.txt  \n",
            "  inflating: FastQC/Configuration/contaminant_list.txt  \n",
            "  inflating: FastQC/Configuration/limits.txt  \n",
            "  inflating: FastQC/fastqc           \n",
            "  inflating: FastQC/fastqc_icon.ico  \n",
            "   creating: FastQC/Help/\n",
            "   creating: FastQC/Help/1 Introduction/\n",
            "   creating: FastQC/Help/1 Introduction/.svn/\n",
            "  inflating: FastQC/Help/1 Introduction/.svn/entries  \n",
            "   creating: FastQC/Help/1 Introduction/.svn/props/\n",
            "   creating: FastQC/Help/1 Introduction/.svn/text-base/\n",
            "  inflating: FastQC/Help/1 Introduction/.svn/text-base/1.1 What is FastQC.html.svn-base  \n",
            "   creating: FastQC/Help/1 Introduction/.svn/tmp/\n",
            "   creating: FastQC/Help/1 Introduction/.svn/tmp/props/\n",
            "  inflating: FastQC/Help/1 Introduction/1.1 What is FastQC.html  \n",
            "   creating: FastQC/Help/2 Basic Operations/\n",
            "   creating: FastQC/Help/2 Basic Operations/.svn/\n",
            "  inflating: FastQC/Help/2 Basic Operations/.svn/entries  \n",
            "   creating: FastQC/Help/2 Basic Operations/.svn/props/\n",
            "   creating: FastQC/Help/2 Basic Operations/.svn/text-base/\n",
            "  inflating: FastQC/Help/2 Basic Operations/.svn/text-base/2.1 Opening a sequence file.html.svn-base  \n",
            "  inflating: FastQC/Help/2 Basic Operations/.svn/text-base/2.2 Evaluating Results.html.svn-base  \n",
            "  inflating: FastQC/Help/2 Basic Operations/.svn/text-base/2.3 Saving a Report.html.svn-base  \n",
            "   creating: FastQC/Help/2 Basic Operations/.svn/tmp/\n",
            "   creating: FastQC/Help/2 Basic Operations/.svn/tmp/props/\n",
            "  inflating: FastQC/Help/2 Basic Operations/2.1 Opening a sequence file.html  \n",
            "  inflating: FastQC/Help/2 Basic Operations/2.2 Evaluating Results.html  \n",
            "  inflating: FastQC/Help/2 Basic Operations/2.3 Saving a Report.html  \n",
            "   creating: FastQC/Help/3 Analysis Modules/\n",
            "   creating: FastQC/Help/3 Analysis Modules/.svn/\n",
            "  inflating: FastQC/Help/3 Analysis Modules/.svn/entries  \n",
            "   creating: FastQC/Help/3 Analysis Modules/.svn/prop-base/\n",
            " extracting: FastQC/Help/3 Analysis Modules/.svn/prop-base/duplication_levels.png.svn-base  \n",
            "  inflating: FastQC/Help/3 Analysis Modules/.svn/prop-base/kmer_profiles.png.svn-base  \n",
            " extracting: FastQC/Help/3 Analysis Modules/.svn/prop-base/per_base_gc_content.png.svn-base  \n",
            " extracting: FastQC/Help/3 Analysis Modules/.svn/prop-base/per_base_n_content.png.svn-base  \n",
            " extracting: FastQC/Help/3 Analysis Modules/.svn/prop-base/per_base_quality.png.svn-base  \n",
            " extracting: FastQC/Help/3 Analysis Modules/.svn/prop-base/per_base_sequence_content.png.svn-base  \n",
            " extracting: FastQC/Help/3 Analysis Modules/.svn/prop-base/per_sequence_gc_content.png.svn-base  \n",
            " extracting: FastQC/Help/3 Analysis Modules/.svn/prop-base/per_sequence_quality.png.svn-base  \n",
            " extracting: FastQC/Help/3 Analysis Modules/.svn/prop-base/per_tile_quality.png.svn-base  \n",
            " extracting: FastQC/Help/3 Analysis Modules/.svn/prop-base/sequence_length_distribution.png.svn-base  \n",
            "   creating: FastQC/Help/3 Analysis Modules/.svn/props/\n",
            "   creating: FastQC/Help/3 Analysis Modules/.svn/text-base/\n",
            "  inflating: FastQC/Help/3 Analysis Modules/.svn/text-base/1 Basic Statistics.html.svn-base  \n",
            "  inflating: FastQC/Help/3 Analysis Modules/.svn/text-base/10 Adapter Content.html.svn-base  \n",
            "  inflating: FastQC/Help/3 Analysis Modules/.svn/text-base/11 Kmer Content.html.svn-base  \n",
            "  inflating: FastQC/Help/3 Analysis Modules/.svn/text-base/12 Per Tile Sequence Quality.html.svn-base  \n",
            "  inflating: FastQC/Help/3 Analysis Modules/.svn/text-base/2 Per Base Sequence Quality.html.svn-base  \n",
            "  inflating: FastQC/Help/3 Analysis Modules/.svn/text-base/3 Per Sequence Quality Scores.html.svn-base  \n",
            "  inflating: FastQC/Help/3 Analysis Modules/.svn/text-base/4 Per Base Sequence Content.html.svn-base  \n",
            "  inflating: FastQC/Help/3 Analysis Modules/.svn/text-base/5 Per Sequence GC Content.html.svn-base  \n",
            "  inflating: FastQC/Help/3 Analysis Modules/.svn/text-base/6 Per Base N Content.html.svn-base  \n",
            "  inflating: FastQC/Help/3 Analysis Modules/.svn/text-base/7 Sequence Length Distribution.html.svn-base  \n",
            "  inflating: FastQC/Help/3 Analysis Modules/.svn/text-base/8 Duplicate Sequences.html.svn-base  \n",
            "  inflating: FastQC/Help/3 Analysis Modules/.svn/text-base/9 Overrepresented Sequences.html.svn-base  \n",
            "  inflating: FastQC/Help/3 Analysis Modules/.svn/text-base/duplication_levels.png.svn-base  \n",
            "  inflating: FastQC/Help/3 Analysis Modules/.svn/text-base/kmer_profiles.png.svn-base  \n",
            "  inflating: FastQC/Help/3 Analysis Modules/.svn/text-base/per_base_gc_content.png.svn-base  \n",
            "  inflating: FastQC/Help/3 Analysis Modules/.svn/text-base/per_base_n_content.png.svn-base  \n",
            "  inflating: FastQC/Help/3 Analysis Modules/.svn/text-base/per_base_quality.png.svn-base  \n",
            "  inflating: FastQC/Help/3 Analysis Modules/.svn/text-base/per_base_sequence_content.png.svn-base  \n",
            "  inflating: FastQC/Help/3 Analysis Modules/.svn/text-base/per_sequence_gc_content.png.svn-base  \n",
            "  inflating: FastQC/Help/3 Analysis Modules/.svn/text-base/per_sequence_quality.png.svn-base  \n",
            "  inflating: FastQC/Help/3 Analysis Modules/.svn/text-base/per_tile_quality.png.svn-base  \n",
            "  inflating: FastQC/Help/3 Analysis Modules/.svn/text-base/sequence_length_distribution.png.svn-base  \n",
            "   creating: FastQC/Help/3 Analysis Modules/.svn/tmp/\n",
            "   creating: FastQC/Help/3 Analysis Modules/.svn/tmp/props/\n",
            "  inflating: FastQC/Help/3 Analysis Modules/1 Basic Statistics.html  \n",
            "  inflating: FastQC/Help/3 Analysis Modules/10 Adapter Content.html  \n",
            "  inflating: FastQC/Help/3 Analysis Modules/11 Kmer Content.html  \n",
            "  inflating: FastQC/Help/3 Analysis Modules/12 Per Tile Sequence Quality.html  \n",
            "  inflating: FastQC/Help/3 Analysis Modules/2 Per Base Sequence Quality.html  \n",
            "  inflating: FastQC/Help/3 Analysis Modules/3 Per Sequence Quality Scores.html  \n",
            "  inflating: FastQC/Help/3 Analysis Modules/4 Per Base Sequence Content.html  \n",
            "  inflating: FastQC/Help/3 Analysis Modules/5 Per Sequence GC Content.html  \n",
            "  inflating: FastQC/Help/3 Analysis Modules/6 Per Base N Content.html  \n",
            "  inflating: FastQC/Help/3 Analysis Modules/7 Sequence Length Distribution.html  \n",
            "  inflating: FastQC/Help/3 Analysis Modules/8 Duplicate Sequences.html  \n",
            "  inflating: FastQC/Help/3 Analysis Modules/9 Overrepresented Sequences.html  \n",
            "  inflating: FastQC/Help/3 Analysis Modules/duplication_levels.png  \n",
            "  inflating: FastQC/Help/3 Analysis Modules/kmer_profiles.png  \n",
            "  inflating: FastQC/Help/3 Analysis Modules/per_base_gc_content.png  \n",
            "  inflating: FastQC/Help/3 Analysis Modules/per_base_n_content.png  \n",
            "  inflating: FastQC/Help/3 Analysis Modules/per_base_quality.png  \n",
            "  inflating: FastQC/Help/3 Analysis Modules/per_base_sequence_content.png  \n",
            "  inflating: FastQC/Help/3 Analysis Modules/per_sequence_gc_content.png  \n",
            "  inflating: FastQC/Help/3 Analysis Modules/per_sequence_quality.png  \n",
            "  inflating: FastQC/Help/3 Analysis Modules/per_tile_quality.png  \n",
            "  inflating: FastQC/Help/3 Analysis Modules/sequence_length_distribution.png  \n",
            "  inflating: FastQC/INSTALL.txt      \n",
            "  inflating: FastQC/jbzip2-0.9.jar   \n",
            "  inflating: FastQC/LICENSE          \n",
            "  inflating: FastQC/LICENSE.txt      \n",
            "  inflating: FastQC/LICENSE_JHDF5.txt  \n",
            "   creating: FastQC/net/\n",
            "   creating: FastQC/net/sourceforge/\n",
            "   creating: FastQC/net/sourceforge/iharder/\n",
            "   creating: FastQC/net/sourceforge/iharder/base64/\n",
            "  inflating: FastQC/net/sourceforge/iharder/base64/Base64$1.class  \n",
            "  inflating: FastQC/net/sourceforge/iharder/base64/Base64$InputStream.class  \n",
            "  inflating: FastQC/net/sourceforge/iharder/base64/Base64$OutputStream.class  \n",
            "  inflating: FastQC/net/sourceforge/iharder/base64/Base64.class  \n",
            "   creating: FastQC/org/\n",
            "   creating: FastQC/org/apache/\n",
            "   creating: FastQC/org/apache/commons/\n",
            "   creating: FastQC/org/apache/commons/math3/\n",
            "   creating: FastQC/org/apache/commons/math3/analysis/\n",
            "   creating: FastQC/org/apache/commons/math3/analysis/solvers/\n",
            "  inflating: FastQC/org/apache/commons/math3/analysis/solvers/AbstractUnivariateSolver.class  \n",
            "  inflating: FastQC/org/apache/commons/math3/analysis/solvers/AllowedSolution.class  \n",
            "  inflating: FastQC/org/apache/commons/math3/analysis/solvers/BaseAbstractUnivariateSolver.class  \n",
            "  inflating: FastQC/org/apache/commons/math3/analysis/solvers/BaseUnivariateSolver.class  \n",
            "  inflating: FastQC/org/apache/commons/math3/analysis/solvers/BracketedUnivariateSolver.class  \n",
            "  inflating: FastQC/org/apache/commons/math3/analysis/solvers/BrentSolver.class  \n",
            "  inflating: FastQC/org/apache/commons/math3/analysis/solvers/UnivariateSolver.class  \n",
            "  inflating: FastQC/org/apache/commons/math3/analysis/solvers/UnivariateSolverUtils.class  \n",
            "  inflating: FastQC/org/apache/commons/math3/analysis/UnivariateFunction.class  \n",
            "   creating: FastQC/org/apache/commons/math3/distribution/\n",
            "  inflating: FastQC/org/apache/commons/math3/distribution/AbstractIntegerDistribution.class  \n",
            "  inflating: FastQC/org/apache/commons/math3/distribution/AbstractRealDistribution$1.class  \n",
            "  inflating: FastQC/org/apache/commons/math3/distribution/AbstractRealDistribution.class  \n",
            "  inflating: FastQC/org/apache/commons/math3/distribution/BetaDistribution.class  \n",
            "  inflating: FastQC/org/apache/commons/math3/distribution/BinomialDistribution.class  \n",
            "  inflating: FastQC/org/apache/commons/math3/distribution/CauchyDistribution.class  \n",
            "  inflating: FastQC/org/apache/commons/math3/distribution/ChiSquaredDistribution.class  \n",
            "  inflating: FastQC/org/apache/commons/math3/distribution/FDistribution.class  \n",
            "  inflating: FastQC/org/apache/commons/math3/distribution/GammaDistribution.class  \n",
            "  inflating: FastQC/org/apache/commons/math3/distribution/HypergeometricDistribution.class  \n",
            "  inflating: FastQC/org/apache/commons/math3/distribution/IntegerDistribution.class  \n",
            "  inflating: FastQC/org/apache/commons/math3/distribution/NormalDistribution.class  \n",
            "  inflating: FastQC/org/apache/commons/math3/distribution/PascalDistribution.class  \n",
            "  inflating: FastQC/org/apache/commons/math3/distribution/PoissonDistribution.class  \n",
            "  inflating: FastQC/org/apache/commons/math3/distribution/RealDistribution.class  \n",
            "  inflating: FastQC/org/apache/commons/math3/distribution/SaddlePointExpansion.class  \n",
            "  inflating: FastQC/org/apache/commons/math3/distribution/TDistribution.class  \n",
            "  inflating: FastQC/org/apache/commons/math3/distribution/WeibullDistribution.class  \n",
            "  inflating: FastQC/org/apache/commons/math3/distribution/ZipfDistribution.class  \n",
            "   creating: FastQC/org/apache/commons/math3/exception/\n",
            "  inflating: FastQC/org/apache/commons/math3/exception/ConvergenceException.class  \n",
            "  inflating: FastQC/org/apache/commons/math3/exception/DimensionMismatchException.class  \n",
            "  inflating: FastQC/org/apache/commons/math3/exception/MathArithmeticException.class  \n",
            "  inflating: FastQC/org/apache/commons/math3/exception/MathIllegalArgumentException.class  \n",
            "  inflating: FastQC/org/apache/commons/math3/exception/MathIllegalNumberException.class  \n",
            "  inflating: FastQC/org/apache/commons/math3/exception/MathIllegalStateException.class  \n",
            "  inflating: FastQC/org/apache/commons/math3/exception/MathInternalError.class  \n",
            "  inflating: FastQC/org/apache/commons/math3/exception/MaxCountExceededException.class  \n",
            "  inflating: FastQC/org/apache/commons/math3/exception/NoBracketingException.class  \n",
            "  inflating: FastQC/org/apache/commons/math3/exception/NotFiniteNumberException.class  \n",
            "  inflating: FastQC/org/apache/commons/math3/exception/NotPositiveException.class  \n",
            "  inflating: FastQC/org/apache/commons/math3/exception/NotStrictlyPositiveException.class  \n",
            "  inflating: FastQC/org/apache/commons/math3/exception/NullArgumentException.class  \n",
            "  inflating: FastQC/org/apache/commons/math3/exception/NumberIsTooLargeException.class  \n",
            "  inflating: FastQC/org/apache/commons/math3/exception/NumberIsTooSmallException.class  \n",
            "  inflating: FastQC/org/apache/commons/math3/exception/OutOfRangeException.class  \n",
            "  inflating: FastQC/org/apache/commons/math3/exception/TooManyEvaluationsException.class  \n",
            "   creating: FastQC/org/apache/commons/math3/exception/util/\n",
            "  inflating: FastQC/org/apache/commons/math3/exception/util/ArgUtils.class  \n",
            "  inflating: FastQC/org/apache/commons/math3/exception/util/ExceptionContext.class  \n",
            "  inflating: FastQC/org/apache/commons/math3/exception/util/ExceptionContextProvider.class  \n",
            "  inflating: FastQC/org/apache/commons/math3/exception/util/Localizable.class  \n",
            "  inflating: FastQC/org/apache/commons/math3/exception/util/LocalizedFormats.class  \n",
            "   creating: FastQC/org/apache/commons/math3/random/\n",
            "  inflating: FastQC/org/apache/commons/math3/random/AbstractWell.class  \n",
            "  inflating: FastQC/org/apache/commons/math3/random/BitsStreamGenerator.class  \n",
            "  inflating: FastQC/org/apache/commons/math3/random/RandomData.class  \n",
            "  inflating: FastQC/org/apache/commons/math3/random/RandomDataImpl.class  \n",
            "  inflating: FastQC/org/apache/commons/math3/random/RandomGenerator.class  \n",
            "  inflating: FastQC/org/apache/commons/math3/random/Well19937c.class  \n",
            "   creating: FastQC/org/apache/commons/math3/special/\n",
            "  inflating: FastQC/org/apache/commons/math3/special/Beta$1.class  \n",
            "  inflating: FastQC/org/apache/commons/math3/special/Beta.class  \n",
            "  inflating: FastQC/org/apache/commons/math3/special/Erf.class  \n",
            "  inflating: FastQC/org/apache/commons/math3/special/Gamma$1.class  \n",
            "  inflating: FastQC/org/apache/commons/math3/special/Gamma.class  \n",
            "   creating: FastQC/org/apache/commons/math3/util/\n",
            "  inflating: FastQC/org/apache/commons/math3/util/ArithmeticUtils.class  \n",
            "  inflating: FastQC/org/apache/commons/math3/util/ContinuedFraction.class  \n",
            "  inflating: FastQC/org/apache/commons/math3/util/DoubleArray.class  \n",
            "  inflating: FastQC/org/apache/commons/math3/util/FastMath$ExpFracTable.class  \n",
            "  inflating: FastQC/org/apache/commons/math3/util/FastMath$ExpIntTable.class  \n",
            "  inflating: FastQC/org/apache/commons/math3/util/FastMath$lnMant.class  \n",
            "  inflating: FastQC/org/apache/commons/math3/util/FastMath.class  \n",
            "  inflating: FastQC/org/apache/commons/math3/util/FastMathCalc.class  \n",
            "  inflating: FastQC/org/apache/commons/math3/util/FastMathLiteralArrays.class  \n",
            "  inflating: FastQC/org/apache/commons/math3/util/Incrementor$1.class  \n",
            "  inflating: FastQC/org/apache/commons/math3/util/Incrementor$MaxCountExceededCallback.class  \n",
            "  inflating: FastQC/org/apache/commons/math3/util/Incrementor.class  \n",
            "  inflating: FastQC/org/apache/commons/math3/util/MathUtils.class  \n",
            "  inflating: FastQC/org/apache/commons/math3/util/Precision.class  \n",
            "  inflating: FastQC/org/apache/commons/math3/util/ResizableDoubleArray.class  \n",
            "  inflating: FastQC/README.md        \n",
            "  inflating: FastQC/README.txt       \n",
            "  inflating: FastQC/RELEASE_NOTES.txt  \n",
            "  inflating: FastQC/run_fastqc.bat   \n",
            "  inflating: FastQC/sam-1.103.jar    \n",
            "   creating: FastQC/Templates/\n",
            "  inflating: FastQC/Templates/fastqc2fo.xsl  \n",
            "  inflating: FastQC/Templates/header_template.html  \n",
            "   creating: FastQC/Templates/Icons/\n",
            " extracting: FastQC/Templates/Icons/error.png  \n",
            " extracting: FastQC/Templates/Icons/fastqc_icon.png  \n",
            " extracting: FastQC/Templates/Icons/tick.png  \n",
            " extracting: FastQC/Templates/Icons/warning.png  \n",
            "   creating: FastQC/uk/\n",
            "   creating: FastQC/uk/ac/\n",
            "   creating: FastQC/uk/ac/babraham/\n",
            "   creating: FastQC/uk/ac/babraham/FastQC/\n",
            "   creating: FastQC/uk/ac/babraham/FastQC/Analysis/\n",
            "  inflating: FastQC/uk/ac/babraham/FastQC/Analysis/AnalysisListener.class  \n",
            "  inflating: FastQC/uk/ac/babraham/FastQC/Analysis/AnalysisQueue.class  \n",
            "  inflating: FastQC/uk/ac/babraham/FastQC/Analysis/AnalysisRunner.class  \n",
            "  inflating: FastQC/uk/ac/babraham/FastQC/Analysis/OfflineRunner.class  \n",
            "   creating: FastQC/uk/ac/babraham/FastQC/Dialogs/\n",
            "  inflating: FastQC/uk/ac/babraham/FastQC/Dialogs/AboutDialog$1.class  \n",
            "  inflating: FastQC/uk/ac/babraham/FastQC/Dialogs/AboutDialog.class  \n",
            "  inflating: FastQC/uk/ac/babraham/FastQC/Dialogs/FastQCTitlePanel$SmoothJLabel.class  \n",
            "  inflating: FastQC/uk/ac/babraham/FastQC/Dialogs/FastQCTitlePanel.class  \n",
            "  inflating: FastQC/uk/ac/babraham/FastQC/Dialogs/WelcomePanel.class  \n",
            "  inflating: FastQC/uk/ac/babraham/FastQC/FastQCApplication$1.class  \n",
            "  inflating: FastQC/uk/ac/babraham/FastQC/FastQCApplication.class  \n",
            "  inflating: FastQC/uk/ac/babraham/FastQC/FastQCConfig.class  \n",
            "  inflating: FastQC/uk/ac/babraham/FastQC/FastQCMenuBar.class  \n",
            "   creating: FastQC/uk/ac/babraham/FastQC/FileFilters/\n",
            "  inflating: FastQC/uk/ac/babraham/FastQC/FileFilters/BAMFileFilter.class  \n",
            "  inflating: FastQC/uk/ac/babraham/FastQC/FileFilters/CasavaFastQFileFilter.class  \n",
            "  inflating: FastQC/uk/ac/babraham/FastQC/FileFilters/FastQFileFilter.class  \n",
            "  inflating: FastQC/uk/ac/babraham/FastQC/FileFilters/GobyFileFilter.class  \n",
            "  inflating: FastQC/uk/ac/babraham/FastQC/FileFilters/MappedBAMFileFilter.class  \n",
            "  inflating: FastQC/uk/ac/babraham/FastQC/FileFilters/SequenceFileFilter.class  \n",
            "   creating: FastQC/uk/ac/babraham/FastQC/Graphs/\n",
            "  inflating: FastQC/uk/ac/babraham/FastQC/Graphs/BaseGroup.class  \n",
            "  inflating: FastQC/uk/ac/babraham/FastQC/Graphs/LineGraph.class  \n",
            "  inflating: FastQC/uk/ac/babraham/FastQC/Graphs/QualityBoxPlot.class  \n",
            "  inflating: FastQC/uk/ac/babraham/FastQC/Graphs/TileGraph.class  \n",
            "   creating: FastQC/uk/ac/babraham/FastQC/Help/\n",
            "  inflating: FastQC/uk/ac/babraham/FastQC/Help/HelpDialog.class  \n",
            "  inflating: FastQC/uk/ac/babraham/FastQC/Help/HelpIndexRoot$FileSorter.class  \n",
            "  inflating: FastQC/uk/ac/babraham/FastQC/Help/HelpIndexRoot.class  \n",
            "  inflating: FastQC/uk/ac/babraham/FastQC/Help/HelpPage.class  \n",
            "  inflating: FastQC/uk/ac/babraham/FastQC/Help/HelpPageDisplay$HelpEditor.class  \n",
            "  inflating: FastQC/uk/ac/babraham/FastQC/Help/HelpPageDisplay.class  \n",
            "  inflating: FastQC/uk/ac/babraham/FastQC/Help/HelpSearchPanel.class  \n",
            "   creating: FastQC/uk/ac/babraham/FastQC/Modules/\n",
            "  inflating: FastQC/uk/ac/babraham/FastQC/Modules/AbstractQCModule.class  \n",
            "  inflating: FastQC/uk/ac/babraham/FastQC/Modules/AdapterContent$Adapter.class  \n",
            "  inflating: FastQC/uk/ac/babraham/FastQC/Modules/AdapterContent$ResultsTable.class  \n",
            "  inflating: FastQC/uk/ac/babraham/FastQC/Modules/AdapterContent.class  \n",
            "  inflating: FastQC/uk/ac/babraham/FastQC/Modules/BasicStats$ResultsTable.class  \n",
            "  inflating: FastQC/uk/ac/babraham/FastQC/Modules/BasicStats.class  \n",
            "  inflating: FastQC/uk/ac/babraham/FastQC/Modules/DuplicationLevel.class  \n",
            "   creating: FastQC/uk/ac/babraham/FastQC/Modules/GCModel/\n",
            "  inflating: FastQC/uk/ac/babraham/FastQC/Modules/GCModel/GCModel.class  \n",
            "  inflating: FastQC/uk/ac/babraham/FastQC/Modules/GCModel/GCModelValue.class  \n",
            "  inflating: FastQC/uk/ac/babraham/FastQC/Modules/KmerContent$Kmer.class  \n",
            "  inflating: FastQC/uk/ac/babraham/FastQC/Modules/KmerContent$ResultsTable.class  \n",
            "  inflating: FastQC/uk/ac/babraham/FastQC/Modules/KmerContent.class  \n",
            "  inflating: FastQC/uk/ac/babraham/FastQC/Modules/ModuleConfig.class  \n",
            "  inflating: FastQC/uk/ac/babraham/FastQC/Modules/ModuleFactory.class  \n",
            "  inflating: FastQC/uk/ac/babraham/FastQC/Modules/NContent.class  \n",
            "  inflating: FastQC/uk/ac/babraham/FastQC/Modules/OverRepresentedSeqs$OverrepresentedSeq.class  \n",
            "  inflating: FastQC/uk/ac/babraham/FastQC/Modules/OverRepresentedSeqs$ResultsTable.class  \n",
            "  inflating: FastQC/uk/ac/babraham/FastQC/Modules/OverRepresentedSeqs.class  \n",
            "  inflating: FastQC/uk/ac/babraham/FastQC/Modules/PerBaseQualityScores.class  \n",
            "  inflating: FastQC/uk/ac/babraham/FastQC/Modules/PerBaseSequenceContent.class  \n",
            "  inflating: FastQC/uk/ac/babraham/FastQC/Modules/PerSequenceGCContent.class  \n",
            "  inflating: FastQC/uk/ac/babraham/FastQC/Modules/PerSequenceQualityScores.class  \n",
            "  inflating: FastQC/uk/ac/babraham/FastQC/Modules/PerTileQualityScores.class  \n",
            "  inflating: FastQC/uk/ac/babraham/FastQC/Modules/QCModule.class  \n",
            "  inflating: FastQC/uk/ac/babraham/FastQC/Modules/SequenceLengthDistribution.class  \n",
            "   creating: FastQC/uk/ac/babraham/FastQC/Report/\n",
            "  inflating: FastQC/uk/ac/babraham/FastQC/Report/HTMLReportArchive.class  \n",
            "  inflating: FastQC/uk/ac/babraham/FastQC/Report/stylesheet.txt  \n",
            "   creating: FastQC/uk/ac/babraham/FastQC/Resources/\n",
            " extracting: FastQC/uk/ac/babraham/FastQC/Resources/error.png  \n",
            " extracting: FastQC/uk/ac/babraham/FastQC/Resources/fastqc_icon.png  \n",
            "  inflating: FastQC/uk/ac/babraham/FastQC/Resources/fastqc_icon.svg  \n",
            " extracting: FastQC/uk/ac/babraham/FastQC/Resources/fastqc_icon_100.png  \n",
            " extracting: FastQC/uk/ac/babraham/FastQC/Resources/tick.png  \n",
            " extracting: FastQC/uk/ac/babraham/FastQC/Resources/warning.png  \n",
            "   creating: FastQC/uk/ac/babraham/FastQC/Results/\n",
            "  inflating: FastQC/uk/ac/babraham/FastQC/Results/ResultsPanel$ModuleRenderer.class  \n",
            "  inflating: FastQC/uk/ac/babraham/FastQC/Results/ResultsPanel.class  \n",
            "   creating: FastQC/uk/ac/babraham/FastQC/Sequence/\n",
            "  inflating: FastQC/uk/ac/babraham/FastQC/Sequence/BAMFile.class  \n",
            "   creating: FastQC/uk/ac/babraham/FastQC/Sequence/Contaminant/\n",
            "  inflating: FastQC/uk/ac/babraham/FastQC/Sequence/Contaminant/Contaminant.class  \n",
            "  inflating: FastQC/uk/ac/babraham/FastQC/Sequence/Contaminant/ContaminantHit.class  \n",
            "  inflating: FastQC/uk/ac/babraham/FastQC/Sequence/Contaminant/ContaminentFinder.class  \n",
            "  inflating: FastQC/uk/ac/babraham/FastQC/Sequence/Fast5File.class  \n",
            "  inflating: FastQC/uk/ac/babraham/FastQC/Sequence/FastQFile.class  \n",
            "   creating: FastQC/uk/ac/babraham/FastQC/Sequence/QualityEncoding/\n",
            "  inflating: FastQC/uk/ac/babraham/FastQC/Sequence/QualityEncoding/PhredEncoding.class  \n",
            "  inflating: FastQC/uk/ac/babraham/FastQC/Sequence/Sequence.class  \n",
            "  inflating: FastQC/uk/ac/babraham/FastQC/Sequence/SequenceFactory.class  \n",
            "  inflating: FastQC/uk/ac/babraham/FastQC/Sequence/SequenceFile.class  \n",
            "  inflating: FastQC/uk/ac/babraham/FastQC/Sequence/SequenceFileGroup.class  \n",
            "  inflating: FastQC/uk/ac/babraham/FastQC/Sequence/SequenceFormatException.class  \n",
            "   creating: FastQC/uk/ac/babraham/FastQC/Statistics/\n",
            "  inflating: FastQC/uk/ac/babraham/FastQC/Statistics/NormalDistribution.class  \n",
            "  inflating: FastQC/uk/ac/babraham/FastQC/Statistics/PearsonCorrelation.class  \n",
            "   creating: FastQC/uk/ac/babraham/FastQC/Utilities/\n",
            "  inflating: FastQC/uk/ac/babraham/FastQC/Utilities/CasavaBasename.class  \n",
            "  inflating: FastQC/uk/ac/babraham/FastQC/Utilities/HotColdColourGradient.class  \n",
            "  inflating: FastQC/uk/ac/babraham/FastQC/Utilities/ImageToBase64.class  \n",
            "  inflating: FastQC/uk/ac/babraham/FastQC/Utilities/MultiMemberGZIPInputStream.class  \n",
            "  inflating: FastQC/uk/ac/babraham/FastQC/Utilities/NameFormatException.class  \n",
            "  inflating: FastQC/uk/ac/babraham/FastQC/Utilities/NanoporeBasename.class  \n",
            "  inflating: FastQC/uk/ac/babraham/FastQC/Utilities/QualityCount.class  \n",
            "  inflating: FastQC/uk/ac/babraham/FastQC/Utilities/RGB.class  \n"
          ]
        }
      ],
      "source": [
        "!wget https://www.bioinformatics.babraham.ac.uk/projects/fastqc/fastqc_v0.11.9.zip\n",
        "!unzip fastqc_v0.11.9.zip"
      ]
    },
    {
      "cell_type": "markdown",
      "source": [
        "Затем сделаем скрипт <code>fastqc</code> выполняемым. В результате выполним анализ качества наших прочтений и положим результаты и все репорты в папку <code>qc</code>, которую перед этим создадим."
      ],
      "metadata": {
        "id": "F5WJVvst7w4k"
      }
    },
    {
      "cell_type": "code",
      "source": [
        "!chmod +x FastQC/fastqc\n",
        "!mkdir qc\n",
        "!FastQC/fastqc -o qc SRR3900953_1.fastq.gz SRR3900953_2.fastq.gz"
      ],
      "metadata": {
        "colab": {
          "base_uri": "https://localhost:8080/"
        },
        "id": "TcxzHdIr7Rpe",
        "outputId": "ed728540-338c-403f-c5b4-4e0b1c970e1d"
      },
      "execution_count": null,
      "outputs": [
        {
          "output_type": "stream",
          "name": "stdout",
          "text": [
            "Started analysis of SRR3900953_1.fastq.gz\n",
            "Approx 5% complete for SRR3900953_1.fastq.gz\n",
            "Approx 10% complete for SRR3900953_1.fastq.gz\n",
            "Approx 15% complete for SRR3900953_1.fastq.gz\n",
            "Approx 20% complete for SRR3900953_1.fastq.gz\n",
            "Approx 25% complete for SRR3900953_1.fastq.gz\n",
            "Approx 30% complete for SRR3900953_1.fastq.gz\n",
            "Approx 35% complete for SRR3900953_1.fastq.gz\n",
            "Approx 40% complete for SRR3900953_1.fastq.gz\n",
            "Approx 45% complete for SRR3900953_1.fastq.gz\n",
            "Approx 50% complete for SRR3900953_1.fastq.gz\n",
            "Approx 55% complete for SRR3900953_1.fastq.gz\n",
            "Approx 60% complete for SRR3900953_1.fastq.gz\n",
            "Approx 65% complete for SRR3900953_1.fastq.gz\n",
            "Approx 70% complete for SRR3900953_1.fastq.gz\n",
            "Approx 75% complete for SRR3900953_1.fastq.gz\n",
            "Approx 80% complete for SRR3900953_1.fastq.gz\n",
            "Approx 85% complete for SRR3900953_1.fastq.gz\n",
            "Approx 90% complete for SRR3900953_1.fastq.gz\n",
            "Approx 95% complete for SRR3900953_1.fastq.gz\n",
            "Analysis complete for SRR3900953_1.fastq.gz\n",
            "Started analysis of SRR3900953_2.fastq.gz\n",
            "Approx 5% complete for SRR3900953_2.fastq.gz\n",
            "Approx 10% complete for SRR3900953_2.fastq.gz\n",
            "Approx 15% complete for SRR3900953_2.fastq.gz\n",
            "Approx 20% complete for SRR3900953_2.fastq.gz\n",
            "Approx 25% complete for SRR3900953_2.fastq.gz\n",
            "Approx 30% complete for SRR3900953_2.fastq.gz\n",
            "Approx 35% complete for SRR3900953_2.fastq.gz\n",
            "Approx 40% complete for SRR3900953_2.fastq.gz\n",
            "Approx 45% complete for SRR3900953_2.fastq.gz\n",
            "Approx 50% complete for SRR3900953_2.fastq.gz\n",
            "Approx 55% complete for SRR3900953_2.fastq.gz\n",
            "Approx 60% complete for SRR3900953_2.fastq.gz\n",
            "Approx 65% complete for SRR3900953_2.fastq.gz\n",
            "Approx 70% complete for SRR3900953_2.fastq.gz\n",
            "Approx 75% complete for SRR3900953_2.fastq.gz\n",
            "Approx 80% complete for SRR3900953_2.fastq.gz\n",
            "Approx 85% complete for SRR3900953_2.fastq.gz\n",
            "Approx 90% complete for SRR3900953_2.fastq.gz\n",
            "Approx 95% complete for SRR3900953_2.fastq.gz\n",
            "Analysis complete for SRR3900953_2.fastq.gz\n"
          ]
        }
      ]
    },
    {
      "cell_type": "markdown",
      "source": [
        "**Задание**\n",
        "\n",
        "Пожалуйста, посмотрите на .html-репорт, который выдаёт программа FastQC. Посмотрите, какие метрики контроля качества не проходят установленные в этой программе пороги. Объясните результаты. Посмотрите на результат работы FastQC на прочтениях RNA-Seq (загрузите при помощи команды `gdown --id 1tntpS8TBl3ERLMBYnso7tNiHeFVRmk8w`). В чём разница и почему?"
      ],
      "metadata": {
        "id": "5LPDFI8M-wMO"
      }
    },
    {
      "cell_type": "code",
      "source": [
        "!gdown 1tntpS8TBl3ERLMBYnso7tNiHeFVRmk8w"
      ],
      "metadata": {
        "id": "HXXvec72-a00",
        "colab": {
          "base_uri": "https://localhost:8080/"
        },
        "outputId": "f3b521d4-6c5e-43d7-e958-de71f141edb3"
      },
      "execution_count": null,
      "outputs": [
        {
          "output_type": "stream",
          "name": "stdout",
          "text": [
            "/usr/local/lib/python3.7/dist-packages/gdown/cli.py:131: FutureWarning: Option `--id` was deprecated in version 4.3.1 and will be removed in 5.0. You don't need to pass it anymore to use a file ID.\n",
            "  category=FutureWarning,\n",
            "Downloading...\n",
            "From: https://drive.google.com/uc?id=1tntpS8TBl3ERLMBYnso7tNiHeFVRmk8w\n",
            "To: /content/RNA-Seq_FastQC_example.html\n",
            "100% 668k/668k [00:00<00:00, 62.5MB/s]\n"
          ]
        }
      ]
    },
    {
      "cell_type": "markdown",
      "source": [
        "### MultiQC\n",
        "\n",
        "Теперь установим программу MultiQC. Она необходима для того, чтобы комбинировать несколько различных отчётов в один. Запустим её, дав путь к директории с отчётами FastQC, и посмотрим на .html-отчёт, который будет получен в результате запуска."
      ],
      "metadata": {
        "id": "fk-7OOxP_BHC"
      }
    },
    {
      "cell_type": "code",
      "source": [
        "!pip3 install multiqc\n",
        "!multiqc qc"
      ],
      "metadata": {
        "id": "UkBWHqrJ7c-h",
        "colab": {
          "base_uri": "https://localhost:8080/"
        },
        "outputId": "e1f2ee89-920e-4425-b65d-24b19608a160"
      },
      "execution_count": null,
      "outputs": [
        {
          "output_type": "stream",
          "name": "stdout",
          "text": [
            "Looking in indexes: https://pypi.org/simple, https://us-python.pkg.dev/colab-wheels/public/simple/\n",
            "Collecting multiqc\n",
            "  Downloading multiqc-1.13-py3-none-any.whl (1.2 MB)\n",
            "\u001b[K     |████████████████████████████████| 1.2 MB 5.1 MB/s \n",
            "\u001b[?25hRequirement already satisfied: pyyaml>=4 in /usr/local/lib/python3.7/dist-packages (from multiqc) (6.0)\n",
            "Collecting rich>=10\n",
            "  Downloading rich-12.5.1-py3-none-any.whl (235 kB)\n",
            "\u001b[K     |████████████████████████████████| 235 kB 45.9 MB/s \n",
            "\u001b[?25hRequirement already satisfied: click in /usr/local/lib/python3.7/dist-packages (from multiqc) (7.1.2)\n",
            "Collecting spectra>=0.0.10\n",
            "  Downloading spectra-0.0.11.tar.gz (18 kB)\n",
            "Requirement already satisfied: markdown in /usr/local/lib/python3.7/dist-packages (from multiqc) (3.4.1)\n",
            "Requirement already satisfied: jinja2>=2.9 in /usr/local/lib/python3.7/dist-packages (from multiqc) (2.11.3)\n",
            "Requirement already satisfied: networkx>=2.5.1 in /usr/local/lib/python3.7/dist-packages (from multiqc) (2.6.3)\n",
            "Collecting simplejson\n",
            "  Downloading simplejson-3.17.6-cp37-cp37m-manylinux_2_5_x86_64.manylinux1_x86_64.manylinux_2_12_x86_64.manylinux2010_x86_64.whl (130 kB)\n",
            "\u001b[K     |████████████████████████████████| 130 kB 35.2 MB/s \n",
            "\u001b[?25hRequirement already satisfied: numpy in /usr/local/lib/python3.7/dist-packages (from multiqc) (1.21.6)\n",
            "Collecting coloredlogs\n",
            "  Downloading coloredlogs-15.0.1-py2.py3-none-any.whl (46 kB)\n",
            "\u001b[K     |████████████████████████████████| 46 kB 3.1 MB/s \n",
            "\u001b[?25hRequirement already satisfied: requests in /usr/local/lib/python3.7/dist-packages (from multiqc) (2.23.0)\n",
            "Requirement already satisfied: future>0.14.0 in /usr/local/lib/python3.7/dist-packages (from multiqc) (0.16.0)\n",
            "Collecting lzstring\n",
            "  Downloading lzstring-1.0.4.tar.gz (4.3 kB)\n",
            "Collecting rich-click\n",
            "  Downloading rich_click-1.5.2-py3-none-any.whl (20 kB)\n",
            "Requirement already satisfied: matplotlib>=2.1.1 in /usr/local/lib/python3.7/dist-packages (from multiqc) (3.2.2)\n",
            "Requirement already satisfied: MarkupSafe>=0.23 in /usr/local/lib/python3.7/dist-packages (from jinja2>=2.9->multiqc) (2.0.1)\n",
            "Requirement already satisfied: cycler>=0.10 in /usr/local/lib/python3.7/dist-packages (from matplotlib>=2.1.1->multiqc) (0.11.0)\n",
            "Requirement already satisfied: python-dateutil>=2.1 in /usr/local/lib/python3.7/dist-packages (from matplotlib>=2.1.1->multiqc) (2.8.2)\n",
            "Requirement already satisfied: kiwisolver>=1.0.1 in /usr/local/lib/python3.7/dist-packages (from matplotlib>=2.1.1->multiqc) (1.4.4)\n",
            "Requirement already satisfied: pyparsing!=2.0.4,!=2.1.2,!=2.1.6,>=2.0.1 in /usr/local/lib/python3.7/dist-packages (from matplotlib>=2.1.1->multiqc) (3.0.9)\n",
            "Requirement already satisfied: typing-extensions in /usr/local/lib/python3.7/dist-packages (from kiwisolver>=1.0.1->matplotlib>=2.1.1->multiqc) (4.1.1)\n",
            "Requirement already satisfied: six>=1.5 in /usr/local/lib/python3.7/dist-packages (from python-dateutil>=2.1->matplotlib>=2.1.1->multiqc) (1.15.0)\n",
            "Collecting commonmark<0.10.0,>=0.9.0\n",
            "  Downloading commonmark-0.9.1-py2.py3-none-any.whl (51 kB)\n",
            "\u001b[K     |████████████████████████████████| 51 kB 6.8 MB/s \n",
            "\u001b[?25hRequirement already satisfied: pygments<3.0.0,>=2.6.0 in /usr/local/lib/python3.7/dist-packages (from rich>=10->multiqc) (2.6.1)\n",
            "Collecting colormath>=3.0.0\n",
            "  Downloading colormath-3.0.0.tar.gz (39 kB)\n",
            "Collecting humanfriendly>=9.1\n",
            "  Downloading humanfriendly-10.0-py2.py3-none-any.whl (86 kB)\n",
            "\u001b[K     |████████████████████████████████| 86 kB 5.5 MB/s \n",
            "\u001b[?25hRequirement already satisfied: importlib-metadata>=4.4 in /usr/local/lib/python3.7/dist-packages (from markdown->multiqc) (4.12.0)\n",
            "Requirement already satisfied: zipp>=0.5 in /usr/local/lib/python3.7/dist-packages (from importlib-metadata>=4.4->markdown->multiqc) (3.8.1)\n",
            "Requirement already satisfied: idna<3,>=2.5 in /usr/local/lib/python3.7/dist-packages (from requests->multiqc) (2.10)\n",
            "Requirement already satisfied: urllib3!=1.25.0,!=1.25.1,<1.26,>=1.21.1 in /usr/local/lib/python3.7/dist-packages (from requests->multiqc) (1.24.3)\n",
            "Requirement already satisfied: certifi>=2017.4.17 in /usr/local/lib/python3.7/dist-packages (from requests->multiqc) (2022.6.15)\n",
            "Requirement already satisfied: chardet<4,>=3.0.2 in /usr/local/lib/python3.7/dist-packages (from requests->multiqc) (3.0.4)\n",
            "Building wheels for collected packages: spectra, colormath, lzstring\n",
            "  Building wheel for spectra (setup.py) ... \u001b[?25l\u001b[?25hdone\n",
            "  Created wheel for spectra: filename=spectra-0.0.11-py3-none-any.whl size=17488 sha256=237a46b939daf82a8dd39d6f1f24138993c45c00518142acce0d59d4cfc0ed71\n",
            "  Stored in directory: /root/.cache/pip/wheels/e3/c8/a4/5a566fafff827fcb5741589e42002686bb29990fbc7b262b5e\n",
            "  Building wheel for colormath (setup.py) ... \u001b[?25l\u001b[?25hdone\n",
            "  Created wheel for colormath: filename=colormath-3.0.0-py3-none-any.whl size=39408 sha256=55473abb00b64230af6f5ae8eadae8004105403484a7c6170fb07e62152c232a\n",
            "  Stored in directory: /root/.cache/pip/wheels/1a/d7/a7/458a4632ccc8bfe436f5e9db9fef1aa84e5d243a1b4b4c7b59\n",
            "  Building wheel for lzstring (setup.py) ... \u001b[?25l\u001b[?25hdone\n",
            "  Created wheel for lzstring: filename=lzstring-1.0.4-py2.py3-none-any.whl size=4590 sha256=5cae549653307874943351622e75fdaedb3c4e4a01efb537e39ab83b0739d50c\n",
            "  Stored in directory: /root/.cache/pip/wheels/f1/e0/9f/2d1e57842b9e3a9f030519f6ea5e55a21ba7d4f5bcbb4ef578\n",
            "Successfully built spectra colormath lzstring\n",
            "Installing collected packages: commonmark, rich, humanfriendly, colormath, spectra, simplejson, rich-click, lzstring, coloredlogs, multiqc\n",
            "Successfully installed coloredlogs-15.0.1 colormath-3.0.0 commonmark-0.9.1 humanfriendly-10.0 lzstring-1.0.4 multiqc-1.13 rich-12.5.1 rich-click-1.5.2 simplejson-3.17.6 spectra-0.0.11\n",
            "\n",
            "  \u001b[34m/\u001b[0m\u001b[32m/\u001b[0m\u001b[31m/\u001b[0m \u001b]8;id=795900;https://multiqc.info\u001b\\\u001b[1mMultiQC\u001b[0m\u001b]8;;\u001b\\ 🔍 \u001b[2m| v1.13\u001b[0m\n",
            "\n",
            "\u001b[34m|           multiqc\u001b[0m | Search path : /content/qc\n",
            "\u001b[2K\u001b[34m|\u001b[0m         \u001b[34msearching\u001b[0m | \u001b[90m━━━━━━━━━━━━━━━━━━━━━━━━━━━━━━━━━━━━━━━━\u001b[0m \u001b[35m100%\u001b[0m \u001b[32m4/4\u001b[0m  \n",
            "\u001b[?25h\u001b[34m|            fastqc\u001b[0m | Found 2 reports\n",
            "\u001b[34m|           multiqc\u001b[0m | Compressing plot data\n",
            "\u001b[34m|           multiqc\u001b[0m | Report      : multiqc_report.html\n",
            "\u001b[34m|           multiqc\u001b[0m | Data        : multiqc_data\n",
            "\u001b[34m|           multiqc\u001b[0m | MultiQC complete\n"
          ]
        }
      ]
    },
    {
      "cell_type": "markdown",
      "source": [
        "В случае, когда вы работаете сразу с большим количеством образцов, это может значительно ускорить процесс анализа данных, а также легко понять, по какой причине те или иные точки могут быть аутлаерами (например, определить образцы с низким по сравнению с другими покрытием и проч.)\n",
        "\n",
        "После этого можно загрузить .html-отчёт о качестве себе на компьютер и посмотреть, всё ли хорошо с прочтениями. Рассмотрим каждый пункт отчёта и возможные проблемы при анализе bulk RNA-Seq:\n",
        "1. Sequence Quality Histograms\n",
        "2. Per Sequence Quality Scores\n",
        "3. <b>Per Base Sequence Content</b> &mdash; проблемы тут в случае RNA-Seq связаны с особенностью подготовки библиотеки (использовались случайные праймеры)\n",
        "4. Per Sequence GC Content\n",
        "5. Per Base N Content\n",
        "6. Sequence Length Distribution\n",
        "7. <b>Sequence Duplication Levels</b> &mdash; в основе порогов данной метрики лежит предположение, что высокое количество дублирующихся прочтений говорит об артефактах ПЦР (это справедливо для, например, геномных библиотек, в которых встретить два одинаковых рида очень маловероятно). Однако для RNA-Seq-экспериментов это нормально, потому что какие-то гены могут встречаться очень часто из-за высокой копийности их РНК (<a href=\"https://www.bioinformatics.babraham.ac.uk/projects/fastqc/Help/3%20Analysis%20Modules/8%20Duplicate%20Sequences.html\" target=\"_blank\">источник</a>)\n",
        "8. <b>Overrepresented sequences</b> &mdash; проблема вызвана аналогичными седьмому пункту проблемами (<a href=\"https://www.bioinformatics.babraham.ac.uk/projects/fastqc/Help/3%20Analysis%20Modules/9%20Overrepresented%20Sequences.html\" target=\"_blank\">источник</a>)\n",
        "9. <b>Adapter Content</b> &mdash; мы видим, что у нас в большом числе прочтений содержатся технические адаптеры. Однако почти все современные алгоритмы для работы с RNA-Seq (в т.ч. и kallisto и STAR) автоматически прорабатывают эту проблему, поэтому мануального устранения не требуется (<a href=\"https://dnatech.genomecenter.ucdavis.edu/faqs/when-should-i-trim-my-illumina-reads-and-how-should-i-do-it/\" target=\"_blank\">про то, когда и зачем лучше обрезать адаптеры</a>)"
      ],
      "metadata": {
        "id": "nc-9yOg9AoUW"
      }
    },
    {
      "cell_type": "markdown",
      "source": [
        "## Введение в Nexflow\n",
        "\n",
        "NextFlow &mdash; это специальный язык, который позволяет вам запускать целые пайплайны из нескольких последовательно выполняемых программ, следя за тем, чтобы каждая стадия выполнялась строго одна за одной."
      ],
      "metadata": {
        "id": "d3uy3diIOves"
      }
    },
    {
      "cell_type": "code",
      "source": [
        "!curl -fsSL https://get.nextflow.io | bash"
      ],
      "metadata": {
        "colab": {
          "base_uri": "https://localhost:8080/"
        },
        "id": "CXTGOLCzO27n",
        "outputId": "73a3c915-a765-4d1e-86e3-7005608aa9ca"
      },
      "execution_count": null,
      "outputs": [
        {
          "output_type": "stream",
          "name": "stdout",
          "text": [
            "CAPSULE: Downloading dependency org.multiverse:multiverse-core:jar:0.7.0\n",
            "CAPSULE: Downloading dependency ch.qos.logback:logback-classic:jar:1.2.9\n",
            "CAPSULE: Downloading dependency org.checkerframework:checker-compat-qual:jar:2.0.0\n",
            "CAPSULE: Downloading dependency org.codehaus.mojo:animal-sniffer-annotations:jar:1.14\n",
            "CAPSULE: Downloading dependency com.google.errorprone:error_prone_annotations:jar:2.1.3\n",
            "CAPSULE: Downloading dependency org.codehaus.groovy:groovy-templates:jar:3.0.10\n",
            "CAPSULE: Downloading dependency com.google.guava:guava:jar:24.1.1-jre\n",
            "CAPSULE: Downloading dependency org.codehaus.jsr166-mirror:jsr166y:jar:1.7.0\n",
            "CAPSULE: Downloading dependency io.nextflow:nf-commons:jar:22.04.5\n",
            "CAPSULE: Downloading dependency org.slf4j:jcl-over-slf4j:jar:1.7.32\n",
            "CAPSULE: Downloading dependency com.beust:jcommander:jar:1.35\n",
            "CAPSULE: Downloading dependency org.slf4j:jul-to-slf4j:jar:1.7.32\n",
            "CAPSULE: Downloading dependency com.google.j2objc:j2objc-annotations:jar:1.1\n",
            "CAPSULE: Downloading dependency ch.grengine:grengine:jar:1.3.0\n",
            "CAPSULE: Downloading dependency jline:jline:jar:2.9\n",
            "CAPSULE: Downloading dependency com.github.zafarkhaja:java-semver:jar:0.9.0\n",
            "CAPSULE: Downloading dependency org.jsoup:jsoup:jar:1.14.3\n",
            "CAPSULE: Downloading dependency org.codehaus.groovy:groovy-xml:jar:3.0.10\n",
            "CAPSULE: Downloading dependency javax.mail:mail:jar:1.4.7\n",
            "CAPSULE: Downloading dependency io.nextflow:nf-httpfs:jar:22.04.5\n",
            "CAPSULE: Downloading dependency commons-lang:commons-lang:jar:2.6\n",
            "CAPSULE: Downloading dependency org.iq80.leveldb:leveldb-api:jar:0.12\n",
            "CAPSULE: Downloading dependency org.codehaus.gpars:gpars:jar:1.2.1\n",
            "CAPSULE: Downloading dependency org.slf4j:slf4j-api:jar:1.7.32\n",
            "CAPSULE: Downloading dependency com.google.code.findbugs:jsr305:jar:1.3.9\n",
            "CAPSULE: Downloading dependency org.objenesis:objenesis:jar:2.1\n",
            "CAPSULE: Downloading dependency com.esotericsoftware.kryo:kryo:jar:2.24.0\n",
            "CAPSULE: Downloading dependency org.apache.ivy:ivy:jar:2.3.0\n",
            "CAPSULE: Downloading dependency org.codehaus.groovy:groovy-json:jar:3.0.10\n",
            "CAPSULE: Downloading dependency com.googlecode.javaewah:JavaEWAH:jar:1.1.6\n",
            "CAPSULE: Downloading dependency org.codehaus.groovy:groovy-nio:jar:3.0.10\n",
            "CAPSULE: Downloading dependency org.codehaus.groovy:groovy:jar:3.0.10\n",
            "CAPSULE: Downloading dependency org.slf4j:log4j-over-slf4j:jar:1.7.32\n",
            "CAPSULE: Downloading dependency dev.failsafe:failsafe:jar:3.1.0\n",
            "CAPSULE: Downloading dependency javax.activation:activation:jar:1.1.1\n",
            "CAPSULE: Downloading dependency org.yaml:snakeyaml:jar:1.28\n",
            "CAPSULE: Downloading dependency com.jcraft:jsch:jar:0.1.54\n",
            "CAPSULE: Downloading dependency org.pf4j:pf4j:jar:3.4.1\n",
            "CAPSULE: Downloading dependency org.iq80.leveldb:leveldb:jar:0.12\n",
            "CAPSULE: Downloading dependency ch.qos.logback:logback-core:jar:1.2.9\n",
            "CAPSULE: Downloading dependency com.jcraft:jzlib:jar:1.1.1\n",
            "CAPSULE: Downloading dependency com.google.code.gson:gson:jar:2.2.4\n",
            "CAPSULE: Downloading dependency io.nextflow:nextflow:jar:22.04.5\n",
            "CAPSULE: Downloading dependency org.eclipse.jgit:org.eclipse.jgit:jar:5.2.1.201812262042-r\n",
            "CAPSULE: Downloading dependency org.pf4j:pf4j-update:jar:2.3.0\n",
            "CAPSULE: Downloading dependency commons-codec:commons-codec:jar:1.10\n",
            "\n",
            "      N E X T F L O W\n",
            "      version 22.04.5 build 5708\n",
            "      created 15-07-2022 16:09 UTC \n",
            "      cite doi:10.1038/nbt.3820\n",
            "      http://nextflow.io\n",
            "\n",
            "\n",
            "Nextflow installation completed. Please note:\n",
            "- the executable file `nextflow` has been created in the folder: /content\n",
            "- you may complete the installation by moving it to a directory in your $PATH\n",
            "\n"
          ]
        }
      ]
    },
    {
      "cell_type": "markdown",
      "source": [
        "Теперь создадим файл <code>my_pipeline.nf</code> со следующим содержанием:\n",
        "```\n",
        "params.SRA = \"SRR000000\"\n",
        "params.results_dir = \"results/\"\n",
        "\n",
        "log.info \"\"\n",
        "log.info \"  Q U A L I T Y   C O N T R O L  \"\n",
        "log.info \"=================================\"\n",
        "log.info \"SRA number         : ${params.SRA}\"\n",
        "log.info \"Results location   : ${params.results_dir}\"\n",
        "```"
      ],
      "metadata": {
        "id": "rFMYCNXkHh8g"
      }
    },
    {
      "cell_type": "markdown",
      "source": [
        "А теперь попробуйте передать различные значения флагов, которые вы описали выше, команде <code>nextflow run my_pipeline.nf</code>:"
      ],
      "metadata": {
        "id": "Q6z6SrM4LYJF"
      }
    },
    {
      "cell_type": "code",
      "source": [
        "!./nextflow run --SRA NEW_SRA_NUMBER my_pipeline.nf"
      ],
      "metadata": {
        "colab": {
          "base_uri": "https://localhost:8080/"
        },
        "id": "OxLuSZbYPETe",
        "outputId": "e9fecabd-286f-45d3-f0d9-865c33ace82c"
      },
      "execution_count": null,
      "outputs": [
        {
          "output_type": "stream",
          "name": "stdout",
          "text": [
            "N E X T F L O W  ~  version 22.04.5\n",
            "Launching `my_pipeline.nf` [awesome_montalcini] DSL2 - revision: 60ff6d6c5b\n",
            "\n",
            "  Q U A L I T Y   C O N T R O L  \n",
            "=================================\n",
            "SRA number         : NEW_SRA_NUMBER\n",
            "Results location   : results/\n"
          ]
        }
      ]
    },
    {
      "cell_type": "markdown",
      "source": [
        "Теперь модифицируем наш файл так, чтобы он выполнял какой-то процесс. Например, загрузку прочтений по SRA-идентификатору:\n",
        "```\n",
        "params.SRA = \"SRR000000\"\n",
        "params.results_dir = \"results/\"\n",
        "\n",
        "log.info \"\"\n",
        "log.info \"  Q U A L I T Y   C O N T R O L  \"\n",
        "log.info \"=================================\"\n",
        "log.info \"SRA number         : ${params.SRA}\"\n",
        "log.info \"Results location   : ${params.results_dir}\"\n",
        "\n",
        "process DownloadFastQ {\n",
        "  publishDir \"${params.results_dir}\"\n",
        "\n",
        "  output:\n",
        "    path \"reads/*\"\n",
        "\n",
        "  script:\n",
        "    \"\"\"\n",
        "    /content/sratoolkit.3.0.0-ubuntu64/bin/fasterq-dump ${params.SRA} -O reads/\n",
        "    \"\"\"\n",
        "}\n",
        "\n",
        "workflow {\n",
        "  DownloadFastQ()\n",
        "}\n",
        "```\n",
        "\n",
        "А теперь выполните скрипт и проследите за тем, какие файлы создаются в ходе выполнения скрипта:"
      ],
      "metadata": {
        "id": "QWaeDHkYLtJp"
      }
    },
    {
      "cell_type": "code",
      "source": [
        "!./nextflow run my_pipeline.nf --SRA SRR3900953"
      ],
      "metadata": {
        "colab": {
          "base_uri": "https://localhost:8080/"
        },
        "id": "_iyupT1xNR46",
        "outputId": "315f0ee9-166a-43dc-dfbd-a5db808563af"
      },
      "execution_count": null,
      "outputs": [
        {
          "output_type": "stream",
          "name": "stdout",
          "text": [
            "N E X T F L O W  ~  version 22.04.5\n",
            "Launching `my_pipeline.nf` [naughty_elion] DSL2 - revision: 44133a5042\n",
            "\n",
            "  Q U A L I T Y   C O N T R O L  \n",
            "=================================\n",
            "SRA number         : SRR3900953\n",
            "Results location   : results/\n",
            "[-        ] process > FastQdump -\u001b[K\n",
            "\u001b[2A\n",
            "[-        ] process > FastQdump [  0%] 0 of 1\u001b[K\n",
            "\u001b[2A\n",
            "executor >  local (1)\u001b[K\n",
            "[b2/e259e1] process > FastQdump [  0%] 0 of 1\u001b[K\n",
            "\u001b[3A\n",
            "executor >  local (1)\u001b[K\n",
            "[b2/e259e1] process > FastQdump [100%] 1 of 1 ✔\u001b[K\n",
            "\n"
          ]
        }
      ]
    },
    {
      "cell_type": "markdown",
      "source": [
        "Теперь модифицируем скрипт так, чтобы в итоговую директорию он сохранял как прочтения, так и результаты работы FastQC для всех прочтений:\n",
        "```\n",
        "params.SRA = \"SRR000000\"\n",
        "params.results_dir = \"results/\"\n",
        "\n",
        "log.info \"\"\n",
        "log.info \"  Q U A L I T Y   C O N T R O L  \"\n",
        "log.info \"=================================\"\n",
        "log.info \"SRA number         : ${params.SRA}\"\n",
        "log.info \"Results location   : ${params.results_dir}\"\n",
        "\n",
        "process DownloadFastQ {\n",
        "  publishDir \"${params.results_dir}\"\n",
        "\n",
        "  output:\n",
        "    path \"reads/*\"\n",
        "\n",
        "  script:\n",
        "    \"\"\"\n",
        "    /content/sratoolkit.3.0.0-ubuntu64/bin/fasterq-dump ${params.SRA} -O reads/\n",
        "    \"\"\"\n",
        "}\n",
        "\n",
        "process QC {\n",
        "  publishDir \"${params.results_dir}\"\n",
        "\n",
        "  input:\n",
        "    path x\n",
        "\n",
        "  output:\n",
        "    path \"qc/*.html\"\n",
        "\n",
        "  script:\n",
        "    \"\"\"\n",
        "    mkdir qc\n",
        "    /content/FastQC/fastqc -o qc $x\n",
        "    \"\"\"\n",
        "}\n",
        "\n",
        "workflow {\n",
        "  DownloadFastQ()\n",
        "  QC( DownloadFastQ.out.collect() )\n",
        "}\n",
        "```"
      ],
      "metadata": {
        "id": "XMZLt0SYbp-w"
      }
    },
    {
      "cell_type": "code",
      "source": [
        "!rm -r results"
      ],
      "metadata": {
        "id": "lTXizHbd6PLb"
      },
      "execution_count": null,
      "outputs": []
    },
    {
      "cell_type": "markdown",
      "source": [
        "**Задание**\n",
        "\n",
        "Добавьте в пайплайн выполнение MultiQC (чтобы в итоговой директории оказывался только отчёт MultiQC в .html, но без отчётов FastQC)."
      ],
      "metadata": {
        "id": "6D2lK0QeDNII"
      }
    },
    {
      "cell_type": "code",
      "source": [],
      "metadata": {
        "id": "V5wB82ZHDV4a"
      },
      "execution_count": null,
      "outputs": []
    },
    {
      "cell_type": "markdown",
      "source": [
        "Для того, чтобы обкспечить параллельный запуск сразу нескольких процессов одним и тем же пайплайном, необходимо распарсить аргумент, который мы подаём в переменную <code>SRA</code> как список, после чего запустить наш немного модифицированный пайплайн:\n",
        "```\n",
        "params.results_dir = \"results/\"\n",
        "SRA_list = params.SRA.split(\",\")\n",
        "\n",
        "log.info \"\"\n",
        "log.info \"  Q U A L I T Y   C O N T R O L  \"\n",
        "log.info \"=================================\"\n",
        "log.info \"SRA number         : ${SRA_list}\"\n",
        "log.info \"Results location   : ${params.results_dir}\"\n",
        "\n",
        "process DownloadFastQ {\n",
        "  publishDir \"${params.results_dir}\"\n",
        "\n",
        "  input:\n",
        "    val sra\n",
        "\n",
        "  output:\n",
        "    path \"${sra}/*\"\n",
        "\n",
        "  script:\n",
        "    \"\"\"\n",
        "    /content/sratoolkit.3.0.0-ubuntu64/bin/fasterq-dump ${sra} -O ${sra}/\n",
        "    \"\"\"\n",
        "}\n",
        "\n",
        "process QC {\n",
        "  input:\n",
        "    path x\n",
        "\n",
        "  output:\n",
        "    path \"qc/*\"\n",
        "\n",
        "  script:\n",
        "    \"\"\"\n",
        "    mkdir qc\n",
        "    /content/FastQC/fastqc -o qc $x\n",
        "    \"\"\"\n",
        "}\n",
        "\n",
        "process MultiQC {\n",
        "  publishDir \"${params.results_dir}\"\n",
        "\n",
        "  input:\n",
        "    path x\n",
        "\n",
        "  output:\n",
        "    path \"multiqc_report.html\"\n",
        "\n",
        "  script:\n",
        "    \"\"\"\n",
        "    multiqc $x\n",
        "    \"\"\"\n",
        "}\n",
        "\n",
        "workflow {\n",
        "  data = Channel.of( SRA_list )\n",
        "  DownloadFastQ(data)\n",
        "  QC( DownloadFastQ.out )\n",
        "  MultiQC( QC.out.collect() )\n",
        "}\n",
        "```\n",
        "Для примера возьмём результаты секвенирования пост-ковидного кишечного метагенома (`SRR20851170`, `SRR20851171`, `SRR20851172`, `SRR20851173`, `SRR20851174`, `SRR20851176`, `SRR20851179`, `SRR20851183`)."
      ],
      "metadata": {
        "id": "2lsLkuZmGJ_0"
      }
    },
    {
      "cell_type": "code",
      "source": [
        "!./nextflow run my_pipeline.nf -with-report nextflow_report.html -with-dag flowchart.pdf --SRA SRR20851170,SRR20851171,SRR20851172,SRR20851173,SRR20851174,SRR20851176,SRR20851179,SRR20851183"
      ],
      "metadata": {
        "colab": {
          "base_uri": "https://localhost:8080/"
        },
        "id": "AAhMSuxpK-Ux",
        "outputId": "ea0d4e8b-85f9-4d34-a261-b1f4ee67c77d"
      },
      "execution_count": null,
      "outputs": [
        {
          "output_type": "stream",
          "name": "stdout",
          "text": [
            "N E X T F L O W  ~  version 22.04.5\n",
            "Launching `my_pipeline.nf` [distraught_pare] DSL2 - revision: 3c0f26639b\n",
            "\n",
            "  Q U A L I T Y   C O N T R O L  \n",
            "=================================\n",
            "SRA number         : [SRR20851170, SRR20851171, SRR20851172, SRR20851173, SRR20851174, SRR20851176, SRR20851179, SRR20851183]\n",
            "Results location   : results/\n",
            "[-        ] process > DownloadFastQ -\u001b[K\n",
            "[-        ] process > QC            -\u001b[K\n",
            "[-        ] process > MultiQC       -\u001b[K\n",
            "\u001b[4A\n",
            "[-        ] process > DownloadFastQ [  0%] 0 of 4\u001b[K\n",
            "[-        ] process > QC            -\u001b[K\n",
            "[-        ] process > MultiQC       -\u001b[K\n",
            "\u001b[4A\n",
            "executor >  local (2)\u001b[K\n",
            "[60/3dee7e] process > DownloadFastQ (2) [  0%] 0 of 8\u001b[K\n",
            "[-        ] process > QC                -\u001b[K\n",
            "[-        ] process > MultiQC           -\u001b[K\n",
            "\u001b[5A\n",
            "executor >  local (3)\u001b[K\n",
            "[33/06c5b6] process > DownloadFastQ (3) [  0%] 0 of 8\u001b[K\n",
            "[-        ] process > QC                -\u001b[K\n",
            "[-        ] process > MultiQC           -\u001b[K\n",
            "\u001b[5A\n",
            "executor >  local (3)\u001b[K\n",
            "[04/e0405d] process > DownloadFastQ (1) [ 12%] 1 of 8\u001b[K\n",
            "[-        ] process > QC                [  0%] 0 of 1\u001b[K\n",
            "[-        ] process > MultiQC           -\u001b[K\n",
            "\u001b[5A\n",
            "executor >  local (3)\u001b[K\n",
            "[04/e0405d] process > DownloadFastQ (1) [ 12%] 1 of 8\u001b[K\n",
            "[-        ] process > QC                [  0%] 0 of 1\u001b[K\n",
            "[-        ] process > MultiQC           -\u001b[K\n",
            "\u001b[5A\n",
            "executor >  local (4)\u001b[K\n",
            "[05/01a4cd] process > DownloadFastQ (5) [ 25%] 2 of 8\u001b[K\n",
            "[-        ] process > QC                [  0%] 0 of 2\u001b[K\n",
            "[-        ] process > MultiQC           -\u001b[K\n",
            "\u001b[5A\n",
            "executor >  local (4)\u001b[K\n",
            "[05/01a4cd] process > DownloadFastQ (5) [ 25%] 2 of 8\u001b[K\n",
            "[-        ] process > QC                [  0%] 0 of 2\u001b[K\n",
            "[-        ] process > MultiQC           -\u001b[K\n",
            "\u001b[5A\n",
            "executor >  local (5)\u001b[K\n",
            "[b8/91218b] process > DownloadFastQ (4) [ 37%] 3 of 8\u001b[K\n",
            "[-        ] process > QC                [  0%] 0 of 3\u001b[K\n",
            "[-        ] process > MultiQC           -\u001b[K\n",
            "\u001b[5A\n",
            "executor >  local (5)\u001b[K\n",
            "[b8/91218b] process > DownloadFastQ (4) [ 37%] 3 of 8\u001b[K\n",
            "[-        ] process > QC                [  0%] 0 of 3\u001b[K\n",
            "[-        ] process > MultiQC           -\u001b[K\n",
            "\u001b[5A\n",
            "executor >  local (6)\u001b[K\n",
            "[b2/41eee0] process > DownloadFastQ (6) [ 50%] 4 of 8\u001b[K\n",
            "[-        ] process > QC                [  0%] 0 of 4\u001b[K\n",
            "[-        ] process > MultiQC           -\u001b[K\n",
            "\u001b[5A\n",
            "executor >  local (6)\u001b[K\n",
            "[b2/41eee0] process > DownloadFastQ (6) [ 50%] 4 of 8\u001b[K\n",
            "[-        ] process > QC                [  0%] 0 of 4\u001b[K\n",
            "[-        ] process > MultiQC           -\u001b[K\n",
            "\u001b[5A\n",
            "executor >  local (8)\u001b[K\n",
            "[b2/41eee0] process > DownloadFastQ (6) [ 75%] 6 of 8\u001b[K\n",
            "[-        ] process > QC                [  0%] 0 of 6\u001b[K\n",
            "[-        ] process > MultiQC           -\u001b[K\n",
            "\u001b[5A\n",
            "executor >  local (9)\u001b[K\n",
            "[d7/70ced9] process > DownloadFastQ (7) [ 87%] 7 of 8\u001b[K\n",
            "[30/9f1128] process > QC (1)            [  0%] 0 of 7\u001b[K\n",
            "[-        ] process > MultiQC           -\u001b[K\n",
            "\u001b[5A\n",
            "executor >  local (10)\u001b[K\n",
            "[d7/70ced9] process > DownloadFastQ (7) [ 87%] 7 of 8 ✔\u001b[K\n",
            "[ce/f755da] process > QC (2)            [  0%] 0 of 7\u001b[K\n",
            "[-        ] process > MultiQC           -\u001b[K\n",
            "\u001b[5A\n",
            "executor >  local (10)\u001b[K\n",
            "[d2/e8b217] process > DownloadFastQ (8) [100%] 8 of 8 ✔\u001b[K\n",
            "[ce/f755da] process > QC (2)            [  0%] 0 of 8\u001b[K\n",
            "[-        ] process > MultiQC           -\u001b[K\n",
            "\u001b[5A\n",
            "executor >  local (11)\u001b[K\n",
            "[d2/e8b217] process > DownloadFastQ (8) [100%] 8 of 8 ✔\u001b[K\n",
            "[7b/97dd2c] process > QC (3)            [ 12%] 1 of 8\u001b[K\n",
            "[-        ] process > MultiQC           -\u001b[K\n",
            "\u001b[5A\n",
            "executor >  local (12)\u001b[K\n",
            "[d2/e8b217] process > DownloadFastQ (8) [100%] 8 of 8 ✔\u001b[K\n",
            "[af/c278d0] process > QC (4)            [ 25%] 2 of 8\u001b[K\n",
            "[-        ] process > MultiQC           -\u001b[K\n",
            "\u001b[5A\n",
            "executor >  local (12)\u001b[K\n",
            "[d2/e8b217] process > DownloadFastQ (8) [100%] 8 of 8 ✔\u001b[K\n",
            "[af/c278d0] process > QC (4)            [ 25%] 2 of 8\u001b[K\n",
            "[-        ] process > MultiQC           -\u001b[K\n",
            "\u001b[5A\n",
            "executor >  local (13)\u001b[K\n",
            "[d2/e8b217] process > DownloadFastQ (8) [100%] 8 of 8 ✔\u001b[K\n",
            "[5a/dc865b] process > QC (5)            [ 37%] 3 of 8\u001b[K\n",
            "[-        ] process > MultiQC           -\u001b[K\n",
            "\u001b[5A\n",
            "executor >  local (14)\u001b[K\n",
            "[d2/e8b217] process > DownloadFastQ (8) [100%] 8 of 8 ✔\u001b[K\n",
            "[6e/7346a6] process > QC (6)            [ 50%] 4 of 8\u001b[K\n",
            "[-        ] process > MultiQC           -\u001b[K\n",
            "\u001b[5A\n",
            "executor >  local (14)\u001b[K\n",
            "[d2/e8b217] process > DownloadFastQ (8) [100%] 8 of 8 ✔\u001b[K\n",
            "[18/daa835] process > QC (7)            [ 62%] 5 of 8\u001b[K\n",
            "[-        ] process > MultiQC           -\u001b[K\n",
            "\u001b[5A\n",
            "executor >  local (15)\u001b[K\n",
            "[d2/e8b217] process > DownloadFastQ (8) [100%] 8 of 8 ✔\u001b[K\n",
            "[18/daa835] process > QC (7)            [ 62%] 5 of 8\u001b[K\n",
            "[-        ] process > MultiQC           -\u001b[K\n",
            "\u001b[5A\n",
            "executor >  local (16)\u001b[K\n",
            "[d2/e8b217] process > DownloadFastQ (8) [100%] 8 of 8 ✔\u001b[K\n",
            "[7b/6176bb] process > QC (8)            [ 75%] 6 of 8\u001b[K\n",
            "[-        ] process > MultiQC           -\u001b[K\n",
            "\u001b[5A\n",
            "executor >  local (16)\u001b[K\n",
            "[d2/e8b217] process > DownloadFastQ (8) [100%] 8 of 8 ✔\u001b[K\n",
            "[18/daa835] process > QC (7)            [ 87%] 7 of 8\u001b[K\n",
            "[-        ] process > MultiQC           -\u001b[K\n",
            "\u001b[5A\n",
            "executor >  local (17)\u001b[K\n",
            "[d2/e8b217] process > DownloadFastQ (8) [100%] 8 of 8 ✔\u001b[K\n",
            "[7b/6176bb] process > QC (8)            [100%] 8 of 8 ✔\u001b[K\n",
            "[aa/cb8a28] process > MultiQC           [  0%] 0 of 1\u001b[K\n",
            "\u001b[5A\n",
            "executor >  local (17)\u001b[K\n",
            "[d2/e8b217] process > DownloadFastQ (8) [100%] 8 of 8 ✔\u001b[K\n",
            "[7b/6176bb] process > QC (8)            [100%] 8 of 8 ✔\u001b[K\n",
            "[aa/cb8a28] process > MultiQC           [100%] 1 of 1 ✔\u001b[K\n",
            "\u001b[5A\n",
            "executor >  local (17)\u001b[K\n",
            "[d2/e8b217] process > DownloadFastQ (8) [100%] 8 of 8 ✔\u001b[K\n",
            "[7b/6176bb] process > QC (8)            [100%] 8 of 8 ✔\u001b[K\n",
            "[aa/cb8a28] process > MultiQC           [100%] 1 of 1 ✔\u001b[K\n",
            "\u001b[32;1mCompleted at: 09-Sep-2022 17:59:16\n",
            "Duration    : 2m 24s\n",
            "CPU hours   : 0.1\n",
            "Succeeded   : 17\n",
            "\u001b[22;39m\u001b[K\n",
            "\n"
          ]
        }
      ]
    },
    {
      "cell_type": "markdown",
      "source": [
        "**Задание**\n",
        "\n",
        "Посмотрите на содержимое файов `flowchart.pdf` и `nextflow_report.html`. Что в них описано и как это может помочь при реализации пайплайна?"
      ],
      "metadata": {
        "id": "SehKyf5baKHu"
      }
    },
    {
      "cell_type": "code",
      "source": [],
      "metadata": {
        "id": "5rPjWOzoR02o"
      },
      "execution_count": null,
      "outputs": []
    },
    {
      "cell_type": "markdown",
      "source": [
        "## Домашнее задание\n",
        "\n",
        "Загрузите прочтения всех экспериментов из статьи <a href=\"https://www.nature.com/articles/s41598-018-23226-4\"><b>Evaluation of two main RNA-seq approaches for gene quantification in clinical RNA sequencing: polyA+ selection versus rRNA depletion</b></a>, в которой сравнивают два протокола подготовки библиотек для bulk RNA-Seq: при помощи деплеции рРНК (=<code>total</code>) или при помощи селекции polyA-транскриптов (=<code>polyA+</code>).\n",
        "\n",
        "При выполнении задания используйте Nextflow pipeline."
      ],
      "metadata": {
        "id": "-w22NmLJ54GS"
      }
    },
    {
      "cell_type": "code",
      "source": [],
      "metadata": {
        "id": "NYUxXcRX53bo"
      },
      "execution_count": null,
      "outputs": []
    }
  ],
  "metadata": {
    "colab": {
      "provenance": [],
      "collapsed_sections": [],
      "include_colab_link": true
    },
    "kernelspec": {
      "display_name": "Python 3",
      "name": "python3"
    },
    "language_info": {
      "name": "python"
    }
  },
  "nbformat": 4,
  "nbformat_minor": 0
}